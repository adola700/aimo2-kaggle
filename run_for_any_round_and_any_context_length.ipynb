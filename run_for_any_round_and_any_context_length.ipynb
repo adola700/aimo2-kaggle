{
 "cells": [
  {
   "cell_type": "code",
   "execution_count": 1,
   "id": "e4ac0659",
   "metadata": {},
   "outputs": [
    {
     "name": "stderr",
     "output_type": "stream",
     "text": [
      "/opt/conda/lib/python3.11/site-packages/torch/utils/_pytree.py:185: FutureWarning: optree is installed but the version is too old to support PyTorch Dynamo in C++ pytree. C++ pytree support is disabled. Please consider upgrading optree using `python3 -m pip install --upgrade 'optree>=0.13.0'`.\n",
      "  warnings.warn(\n"
     ]
    },
    {
     "name": "stdout",
     "output_type": "stream",
     "text": [
      "samples = 11125\n"
     ]
    }
   ],
   "source": [
    "import os\n",
    "os.environ[\"TOKENIZERS_PARALLELISM\"] = \"true\"\n",
    "from tir_lib import *\n",
    "from globals import *\n",
    "import time\n",
    "import importlib\n",
    "import pandas as pd\n",
    "import math\n",
    "from tqdm import tqdm\n",
    "import json\n",
    "import sys\n",
    "from utils import *\n",
    "\n",
    "# MATH_HINTS = {\n",
    "#     \"complex calculation hint\": \"Wait, I can use Python to perform these complex calculations for this problem.```python\\n\",\n",
    "#     \"self reflection hint\": \"Wait, I can use Python to check if my approach is correct and refine it, if necessary.```python\\n\",\n",
    "#     \"general hint\": \"Wait, using python here may be a good idea.```python\\n\",\n",
    "#     \"alternative method hint\": \"Alternatively, I can use Python to explore an alternative method for solving this problem.```python\\n\",\n",
    "#     \"explore deeply hint\": \"Wait, I can explore deeply about this problem through python tools.```python\\n\",\n",
    "#     \"use python again hint\": \"\"\"Wait, I need to utilize Python code again to meticulously check to make sure I understand the question correctly as well as reasoning correctly.```python\\n\"\"\",\n",
    "# #     \"check logic hint\": \"Maybe Python can assist in ensuring our logical deductions are sound.```python\\n\",\n",
    "# #     \"algebraic manipulation hint\": \"Wait, I can use Python to handle the algebraic manipulation and simplify the expression.```python\\n\",\n",
    "# #     \"solve equations hint\": \"Wait, I can use Python to solve this equation.```python\\n\",\n",
    "# #     \"series or sequences hint\": \"Wait, I can use Python to compute the terms of this series or sequence and identify patterns.```python\\n\",\n",
    "# #     \"validate assumption hint\": \"Wait, I can use Python to validate the assumptions I made in this calculation.```python\\n\",\n",
    "# }\n",
    "\n",
    "################## CONFIG #######\n",
    "input_json = \"FINALE_wrongs_part1_samples.json\"\n",
    "target_TIR_json = \"TIR_FULL_RESPONSES_part_1_round_0.json\"\n",
    "not_worked_json = \"AFTER_ROUND_part_1_round_0.json\"\n",
    "\n",
    "def read_json_1(input_json):\n",
    "    with open(input_json, \"r\") as f:\n",
    "        data = json.load(f)\n",
    "        return data\n",
    "        \n",
    "TIR_FULL_RESPONSES = []\n",
    "AFTER_ROUND_RESPONSES = []\n",
    "#################################\n",
    "data_list = read_json_1(input_json)\n",
    "N = len(data_list)\n",
    "print(f\"samples = {N}\")\n",
    "all_q = [item[\"problem\"] for item in data_list]\n",
    "all_r = [item[\"outputs\"] for item in data_list]\n",
    "all_a = [item[\"answer\"] for item in data_list]"
   ]
  },
  {
   "cell_type": "code",
   "execution_count": 2,
   "id": "b9b11ac4",
   "metadata": {},
   "outputs": [],
   "source": [
    "#################################\n",
    "def get_tir(q,r,a):\n",
    "    length_response = get_length(r)\n",
    "    code_generated_freq = r.count(\"```python\")\n",
    "    output_generated_freq = r.count(\"```output\")\n",
    "    ########### IF CODE IS PRESENT ######################\n",
    "#     if code_generated_freq == output_generated_freq + 1:\n",
    "# #         resp = get_code_completion(q, r)\n",
    "#         new_r = r + \"```\"\n",
    "#         resp_with_output = add_output_at_end(new_r)\n",
    "#         added_response, real_tir = get_extra_completion(q, resp_with_output)\n",
    "#         full_response = resp_with_output + added_response\n",
    "    if code_generated_freq > 0:\n",
    "            added_r = insert_hint(q,r)\n",
    "            if added_r is None:\n",
    "                return False\n",
    "            resp = get_code_completion(q, added_r)\n",
    "            new_r = added_r + resp + \"```\"\n",
    "            resp_with_output, real_tir = add_output_at_end(new_r)\n",
    "            added_response = get_extra_completion(q, resp_with_output)\n",
    "            full_response = resp_with_output + added_response\n",
    "    ########### IF CODE IS NOT PRESENT ######################\n",
    "    elif code_generated_freq == 0:\n",
    "        choice = random.choices([1,0], weights = [0.1, 0.9], k = 1)[0]\n",
    "        if choice or length_response < 3200:\n",
    "            added_r = add_prompt_at_end(r)\n",
    "            resp = get_code_completion(q, added_r)\n",
    "            new_r = added_r + resp + \"```\"\n",
    "            resp_with_output, real_tir = add_output_at_end(new_r)\n",
    "            if real_tir:\n",
    "                added_response = get_extra_completion(q, resp_with_output)\n",
    "                full_response = resp_with_output + added_response\n",
    "            else:\n",
    "                return False\n",
    "        if length_response > 3200 - 1:\n",
    "            added_r = insert_hint(q,r)\n",
    "            if added_r is None:\n",
    "                return False\n",
    "            resp = get_code_completion(q, added_r)\n",
    "            new_r = added_r + resp + \"```\"\n",
    "            resp_with_output, real_tir = add_output_at_end(new_r)\n",
    "            if real_tir:\n",
    "                added_response = get_extra_completion(q, resp_with_output)\n",
    "                full_response = resp_with_output + added_response\n",
    "            else:\n",
    "                return False\n",
    "            \n",
    "    gen_ans = extract_boxed_texts(full_response)\n",
    "    if gen_ans is None:\n",
    "        return False\n",
    "    elif real_tir and (gen_ans == str(a) or int(verify_correctness(gen_ans, a)[0])):\n",
    "        TIR_FULL_RESPONSES.append({\"q\": q, \"r\":full_response, \"a\":a})\n",
    "        print(\"TIR succeeded !\")\n",
    "        return True\n",
    "    else:\n",
    "        AFTER_ROUND_RESPONSES.append({\"q\": q, \"r\":full_response, \"a\":a})\n",
    "        # print(\"TIR failed...\")\n",
    "        return False"
   ]
  },
  {
   "cell_type": "code",
   "execution_count": 3,
   "id": "ed6d9bcd",
   "metadata": {},
   "outputs": [],
   "source": [
    "# print(TIR_FULL_RESPONSES[1][\"r\"])"
   ]
  },
  {
   "cell_type": "code",
   "execution_count": 4,
   "id": "0371660f-42bf-4801-854d-00fde36e032c",
   "metadata": {},
   "outputs": [],
   "source": [
    "# AFTER_ROUND_RESPONSES[1][\"a\"]"
   ]
  },
  {
   "cell_type": "code",
   "execution_count": null,
   "id": "c6fdd7e4",
   "metadata": {
    "scrolled": true
   },
   "outputs": [
    {
     "name": "stderr",
     "output_type": "stream",
     "text": [
      "  0%|          | 0/8 [00:00<?, ?it/s]2025-03-30 17:39:09.209227: I tensorflow/core/util/port.cc:113] oneDNN custom operations are on. You may see slightly different numerical results due to floating-point round-off errors from different computation orders. To turn them off, set the environment variable `TF_ENABLE_ONEDNN_OPTS=0`.\n",
      "2025-03-30 17:39:09.265134: I tensorflow/core/platform/cpu_feature_guard.cc:210] This TensorFlow binary is optimized to use available CPU instructions in performance-critical operations.\n",
      "To enable the following instructions: AVX2 AVX512F AVX512_VNNI AVX512_BF16 FMA, in other operations, rebuild TensorFlow with the appropriate compiler flags.\n",
      "2025-03-30 17:39:15.991488: W tensorflow/compiler/tf2tensorrt/utils/py_utils.cc:38] TF-TRT Warning: Could not find TensorRT\n",
      "<string>:27: RuntimeWarning: invalid value encountered in scalar divide\n"
     ]
    },
    {
     "name": "stdout",
     "output_type": "stream",
     "text": [
      "TIR succeeded !\n",
      "TIR succeeded !\n",
      "TIR succeeded !\n",
      "TIR succeeded !\n",
      "TIR succeeded !\n",
      "TIR succeeded !\n",
      "TIR succeeded !\n",
      "TIR succeeded !\n",
      "TIR succeeded !\n",
      "TIR succeeded !\n",
      "TIR succeeded !\n",
      "TIR succeeded !\n",
      "TIR succeeded !\n",
      "TIR succeeded !\n"
     ]
    },
    {
     "name": "stderr",
     "output_type": "stream",
     "text": [
      "/opt/conda/lib/python3.11/site-packages/numpy/lib/function_base.py:2897: RuntimeWarning: invalid value encountered in divide\n",
      "  c /= stddev[:, None]\n"
     ]
    },
    {
     "data": {
      "image/png": "[encoded data removed]",
      "text/plain": [
       "<Figure size 640x480 with 1 Axes>"
      ]
     },
     "metadata": {},
     "output_type": "display_data"
    },
    {
     "name": "stdout",
     "output_type": "stream",
     "text": [
      "TIR succeeded !\n",
      "TIR succeeded !\n",
      "TIR succeeded !\n",
      "TIR succeeded !\n",
      "TIR succeeded !\n",
      "TIR succeeded !\n",
      "TIR succeeded !\n"
     ]
    },
    {
     "name": "stderr",
     "output_type": "stream",
     "text": [
      " 12%|█▎        | 1/8 [05:48<40:42, 348.98s/it]"
     ]
    },
    {
     "name": "stdout",
     "output_type": "stream",
     "text": [
      "TIR succeeded !\n",
      "TIR succeeded !\n",
      "TIR succeeded !\n",
      "TIR succeeded !\n",
      "TIR succeeded !\n",
      "TIR succeeded !\n",
      "TIR succeeded !\n",
      "TIR succeeded !\n",
      "TIR succeeded !\n",
      "TIR succeeded !\n",
      "TIR succeeded !\n",
      "TIR succeeded !\n",
      "TIR succeeded !\n",
      "TIR succeeded !\n",
      "TIR succeeded !\n",
      "TIR succeeded !\n",
      "TIR succeeded !\n",
      "TIR succeeded !\n",
      "TIR succeeded !\n",
      "TIR succeeded !\n",
      "TIR succeeded !\n",
      "TIR succeeded !\n",
      "TIR succeeded !\n"
     ]
    },
    {
     "name": "stderr",
     "output_type": "stream",
     "text": [
      " 25%|██▌       | 2/8 [11:25<34:10, 341.68s/it]"
     ]
    },
    {
     "name": "stdout",
     "output_type": "stream",
     "text": [
      "TIR succeeded !\n",
      "TIR succeeded !\n",
      "TIR succeeded !\n",
      "TIR succeeded !\n",
      "TIR succeeded !\n",
      "TIR succeeded !\n",
      "TIR succeeded !\n",
      "TIR succeeded !\n",
      "TIR succeeded !\n",
      "TIR succeeded !\n",
      "TIR succeeded !\n",
      "TIR succeeded !\n",
      "TIR succeeded !\n",
      "TIR succeeded !\n",
      "TIR succeeded !\n",
      "TIR succeeded !\n",
      "TIR succeeded !\n",
      "TIR succeeded !\n",
      "TIR succeeded !\n",
      "TIR succeeded !\n",
      "TIR succeeded !\n",
      "TIR succeeded !\n",
      "TIR succeeded !\n",
      "TIR succeeded !\n",
      "TIR succeeded !\n"
     ]
    },
    {
     "name": "stderr",
     "output_type": "stream",
     "text": [
      " 38%|███▊      | 3/8 [16:20<26:42, 320.56s/it]"
     ]
    },
    {
     "name": "stdout",
     "output_type": "stream",
     "text": [
      "TIR succeeded !\n",
      "TIR succeeded !\n",
      "TIR succeeded !\n",
      "TIR succeeded !\n",
      "TIR succeeded !\n",
      "TIR succeeded !\n",
      "TIR succeeded !\n"
     ]
    }
   ],
   "source": [
    "%%time\n",
    "# math.ceil(len(data_list)/200)\n",
    "for i in tqdm(range(math.ceil(len(data_list)/1500))):\n",
    "    start = 1500*i\n",
    "    end = 1500*(i+1) \n",
    "    return_val = parallelize(get_tir, all_q[start:end] , all_r[start:end], all_a[start:end])"
   ]
  },
  {
   "cell_type": "code",
   "execution_count": null,
   "id": "e9d4b3d3-d459-40d7-a9f5-da78abfdc510",
   "metadata": {},
   "outputs": [],
   "source": [
    "return_val"
   ]
  },
  {
   "cell_type": "code",
   "execution_count": null,
   "id": "c99a188e",
   "metadata": {},
   "outputs": [],
   "source": [
    "print(return_val)"
   ]
  },
  {
   "cell_type": "code",
   "execution_count": null,
   "id": "e2c0e1d3",
   "metadata": {},
   "outputs": [],
   "source": [
    "def save_unique(dict_list, name = \"xx.json\"):\n",
    "    json_unique = []\n",
    "    st = set()\n",
    "    for item in dict_list:\n",
    "        if item[\"q\"] in st:\n",
    "            pass\n",
    "        else:\n",
    "            st.add(item[\"q\"])\n",
    "            json_unique.append(item)\n",
    "    print(f\"final length: {len(json_unique)}\")\n",
    "    with open(name, \"w\") as f:\n",
    "        json.dump(json_unique, f , indent = 4)\n",
    "        \n",
    "save_unique(TIR_FULL_RESPONSES, target_TIR_json)\n",
    "save_unique(AFTER_ROUND_RESPONSES, not_worked_json)"
   ]
  }
 ],
 "metadata": {
  "kernelspec": {
   "display_name": "Python 3 (ipykernel)",
   "language": "python",
   "name": "python3"
  },
  "language_info": {
   "codemirror_mode": {
    "name": "ipython",
    "version": 3
   },
   "file_extension": ".py",
   "mimetype": "text/x-python",
   "name": "python",
   "nbconvert_exporter": "python",
   "pygments_lexer": "ipython3",
   "version": "3.11.8"
  }
 },
 "nbformat": 4,
 "nbformat_minor": 5
}
