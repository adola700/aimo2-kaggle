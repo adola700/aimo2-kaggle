{
 "cells": [
  {
   "cell_type": "code",
   "execution_count": 1,
   "id": "e4ac0659",
   "metadata": {},
   "outputs": [
    {
     "name": "stderr",
     "output_type": "stream",
     "text": [
      "/opt/conda/lib/python3.11/site-packages/torch/utils/_pytree.py:185: FutureWarning: optree is installed but the version is too old to support PyTorch Dynamo in C++ pytree. C++ pytree support is disabled. Please consider upgrading optree using `python3 -m pip install --upgrade 'optree>=0.13.0'`.\n",
      "  warnings.warn(\n"
     ]
    },
    {
     "name": "stdout",
     "output_type": "stream",
     "text": [
      "samples = 7974\n"
     ]
    }
   ],
   "source": [
    "import os\n",
    "os.environ[\"TOKENIZERS_PARALLELISM\"] = \"true\"\n",
    "from tir_lib import *\n",
    "from globals import *\n",
    "import time\n",
    "import importlib\n",
    "import pandas as pd\n",
    "import math\n",
    "from tqdm import tqdm\n",
    "import json\n",
    "import sys\n",
    "from utils import *\n",
    "\n",
    "################## CONFIG #######\n",
    "input_json = \"AFTER_ROUND_0_RESPONSES_20k_DS_1.json\"\n",
    "target_TIR_json = \"TIR_FULL_RESPONSES_ROUND_1_20k_DS_1.json\"\n",
    "not_worked_json = \"AFTER_ROUND_1_RESPONSES_20k_DS_1.json\"\n",
    "\n",
    "def read_json_1(input_json):\n",
    "    with open(input_json, \"r\") as f:\n",
    "        data = json.load(f)\n",
    "        return data\n",
    "        \n",
    "TIR_FULL_RESPONSES = []\n",
    "AFTER_ROUND_RESPONSES = []\n",
    "#################################\n",
    "data_list = read_json_1(input_json)\n",
    "N = len(data_list)\n",
    "print(f\"samples = {N}\")\n",
    "all_q = [item[\"q\"] for item in data_list]\n",
    "all_r = [item[\"r\"] for item in data_list]\n",
    "all_a = [item[\"a\"] for item in data_list]"
   ]
  },
  {
   "cell_type": "code",
   "execution_count": 2,
   "id": "b9b11ac4",
   "metadata": {},
   "outputs": [],
   "source": [
    "#################################\n",
    "def get_tir(q,r,a):\n",
    "    length_response = get_length(r)\n",
    "    b = True\n",
    "    code_generated_freq = r.count(\"```python\")\n",
    "    output_generated_freq = r.count(\"```output\")\n",
    "    ########### IF CODE IS PRESENT ######################\n",
    "    if code_generated_freq == output_generated_freq + 1:\n",
    "#         resp = get_code_completion(q, r)\n",
    "        new_r = r + \"```\"\n",
    "        resp_with_output = add_output_at_end(new_r)\n",
    "        added_response, real_tir = get_extra_completion(q, resp_with_output)\n",
    "        full_response = resp_with_output + added_response\n",
    "    elif code_generated_freq > 0:\n",
    "            added_r = insert_hint(q,r)\n",
    "            resp = get_code_completion(q, added_r)\n",
    "            new_r = added_r + resp + \"```\"\n",
    "            resp_with_output, real_tir = add_output_at_end(new_r)\n",
    "            added_response = get_extra_completion(q, resp_with_output)\n",
    "            full_response = resp_with_output + added_response\n",
    "    ########### IF CODE IS NOT PRESENT ######################\n",
    "    elif code_generated_freq == 0:\n",
    "        choice = random.choices([1,0], weights = [0.1, 0.9], k = 1)[0]\n",
    "        if choice or length_response < 3200:\n",
    "            added_r = add_prompt_at_end(r)\n",
    "            resp = get_code_completion(q, added_r)\n",
    "            new_r = added_r + resp + \"```\"\n",
    "            resp_with_output, real_tir = add_output_at_end(new_r)\n",
    "            added_response = get_extra_completion(q, resp_with_output)\n",
    "            full_response = resp_with_output + added_response\n",
    "        if length_response > 3200 - 1:\n",
    "            added_r = insert_hint(q,r)\n",
    "            resp = get_code_completion(q, added_r)\n",
    "            new_r = added_r + resp + \"```\"\n",
    "            resp_with_output, real_tir = add_output_at_end(new_r)\n",
    "            added_response = get_extra_completion(q, resp_with_output)\n",
    "            full_response = resp_with_output + added_response\n",
    "    else:\n",
    "        raise Exception(\"some issue with code if - else\") \n",
    "        \n",
    "    gen_ans = extract_boxed_texts(full_response)\n",
    "    if gen_ans is None:\n",
    "        gen_ans = get_answer(full_response)\n",
    "    if real_tir and (gen_ans == str(a) or int(verify_correctness(gen_ans, a))):\n",
    "        TIR_FULL_RESPONSES.append({\"q\": q, \"r\":full_response, \"a\":a})\n",
    "        print(\"TIR succeeded !\")\n",
    "    else:\n",
    "        AFTER_ROUND_RESPONSES.append({\"q\": q, \"r\":full_response, \"a\":a})\n",
    "        print(\"TIR failed...\")\n",
    "        b = False\n",
    "    return b"
   ]
  },
  {
   "cell_type": "code",
   "execution_count": 3,
   "id": "ed6d9bcd",
   "metadata": {},
   "outputs": [
    {
     "data": {
      "text/plain": [
       "0"
      ]
     },
     "execution_count": 3,
     "metadata": {},
     "output_type": "execute_result"
    }
   ],
   "source": [
    "len(TIR_FULL_RESPONSES)"
   ]
  },
  {
   "cell_type": "code",
   "execution_count": null,
   "id": "c6fdd7e4",
   "metadata": {
    "scrolled": true
   },
   "outputs": [
    {
     "name": "stderr",
     "output_type": "stream",
     "text": [
      "  0%|          | 0/54 [00:00<?, ?it/s]Token indices sequence length is longer than the specified maximum sequence length for this model (17974 > 16384). Running this sequence through the model will result in indexing errors\n",
      "Token indices sequence length is longer than the specified maximum sequence length for this model (16441 > 16384). Running this sequence through the model will result in indexing errors\n",
      "Token indices sequence length is longer than the specified maximum sequence length for this model (18252 > 16384). Running this sequence through the model will result in indexing errors\n"
     ]
    },
    {
     "name": "stdout",
     "output_type": "stream",
     "text": [
      "api error occured!\n",
      "api error occured!\n",
      "api error occured!\n",
      "api error occured!\n",
      "api error occured!\n",
      "api error occured!\n",
      "api error occured!\n",
      "api error occured!\n",
      "api error occured!\n",
      "api error occured!\n",
      "api error occured!\n",
      "api error occured!\n",
      "api error occured!\n",
      "api error occured!\n",
      "api error occured!\n",
      "api error occured!\n",
      "api error occured!\n",
      "api error occured!\n",
      "api error occured!\n",
      "api error occured!\n",
      "api error occured!\n",
      "api error occured!\n",
      "api error occured!\n",
      "api error occured!\n",
      "api error occured!\n",
      "api error occured!\n",
      "api error occured!\n",
      "api error occured!\n",
      "api error occured!\n",
      "api error occured!\n",
      "api error occured!\n",
      "api error occured!\n",
      "api error occured!\n",
      "api error occured!\n",
      "api error occured!\n",
      "api error occured!\n",
      "api error occured!\n",
      "api error occured!\n",
      "api error occured!\n",
      "api error occured!\n",
      "api error occured!\n",
      "api error occured!\n",
      "api error occured!\n",
      "api error occured!\n",
      "api error occured!\n",
      "api error occured!\n",
      "api error occured!\n",
      "api error occured!\n",
      "api error occured!\n",
      "api error occured!\n",
      "api error occured!\n",
      "api error occured!\n",
      "api error occured!\n",
      "api error occured!\n",
      "api error occured!\n",
      "api error occured!\n",
      "api error occured!\n",
      "api error occured!\n",
      "api error occured!\n",
      "api error occured!\n",
      "api error occured!\n",
      "api error occured!\n",
      "api error occured!\n",
      "api error occured!\n",
      "api error occured!\n",
      "api error occured!\n",
      "api error occured!\n",
      "api error occured!\n",
      "api error occured!\n",
      "api error occured!\n",
      "api error occured!\n",
      "api error occured!\n",
      "api error occured!\n",
      "api error occured!\n",
      "api error occured!\n",
      "api error occured!\n",
      "api error occured!\n",
      "api error occured!\n",
      "api error occured!\n"
     ]
    },
    {
     "name": "stderr",
     "output_type": "stream",
     "text": [
      "2025-03-27 19:41:56.710700: I tensorflow/core/util/port.cc:113] oneDNN custom operations are on. You may see slightly different numerical results due to floating-point round-off errors from different computation orders. To turn them off, set the environment variable `TF_ENABLE_ONEDNN_OPTS=0`.\n",
      "2025-03-27 19:41:56.753749: I tensorflow/core/platform/cpu_feature_guard.cc:210] This TensorFlow binary is optimized to use available CPU instructions in performance-critical operations.\n",
      "To enable the following instructions: AVX2 AVX512F AVX512_VNNI AVX512_BF16 FMA, in other operations, rebuild TensorFlow with the appropriate compiler flags.\n"
     ]
    },
    {
     "name": "stdout",
     "output_type": "stream",
     "text": [
      "api error occured!\n"
     ]
    },
    {
     "name": "stderr",
     "output_type": "stream",
     "text": [
      "2025-03-27 19:41:57.584446: W tensorflow/compiler/tf2tensorrt/utils/py_utils.cc:38] TF-TRT Warning: Could not find TensorRT\n"
     ]
    },
    {
     "name": "stdout",
     "output_type": "stream",
     "text": [
      "TIR failed...\n",
      "TIR failed...\n",
      "TIR failed...\n",
      "TIR succeeded !\n",
      "TIR failed...TIR failed...\n",
      "\n",
      "TIR failed...\n",
      "TIR failed...\n",
      "TIR failed...\n",
      "TIR failed...\n",
      "TIR failed...\n",
      "TIR failed...\n",
      "TIR failed...\n",
      "TIR failed...\n",
      "TIR failed...\n",
      "TIR failed...\n",
      "TIR failed...\n",
      "TIR failed...\n",
      "TIR failed...\n",
      "TIR failed...\n",
      "TIR failed...\n",
      "TIR failed...\n",
      "TIR failed...\n",
      "TIR succeeded !\n",
      "TIR failed...\n",
      "TIR failed...\n",
      "TIR failed...\n",
      "TIR failed...\n",
      "TIR failed...\n",
      "TIR failed...\n",
      "TIR failed...\n",
      "TIR failed...\n",
      "TIR failed...\n",
      "TIR failed...\n",
      "TIR failed...\n",
      "TIR failed...\n",
      "TIR failed...\n",
      "TIR failed...\n",
      "TIR succeeded !\n",
      "TIR failed...\n",
      "TIR failed...\n",
      "TIR failed...\n",
      "TIR failed...\n",
      "TIR failed...\n",
      "TIR failed...\n",
      "TIR failed...\n",
      "TIR failed...\n",
      "TIR failed...\n",
      "TIR failed...\n",
      "TIR failed...\n",
      "TIR failed...\n",
      "TIR failed...\n",
      "TIR failed...\n",
      "TIR failed...\n",
      "TIR failed...\n",
      "TIR failed...\n",
      "TIR failed...\n",
      "TIR failed...\n",
      "TIR succeeded !\n",
      "TIR failed...\n",
      "TIR succeeded !\n",
      "TIR failed...\n",
      "TIR failed...\n",
      "TIR failed...\n",
      "TIR failed...\n",
      "TIR failed...\n",
      "TIR failed...\n",
      "TIR failed...\n",
      "TIR failed...\n",
      "TIR failed...\n"
     ]
    },
    {
     "name": "stderr",
     "output_type": "stream",
     "text": [
      "  2%|▏         | 1/54 [01:34<1:23:16, 94.27s/it]"
     ]
    },
    {
     "name": "stdout",
     "output_type": "stream",
     "text": [
      "[False, False, 'can only concatenate str (not \"tuple\") to str', False, False, False, False, 'can only concatenate str (not \"tuple\") to str', 'can only concatenate str (not \"tuple\") to str', 'can only concatenate str (not \"tuple\") to str', 'can only concatenate str (not \"tuple\") to str', False, 'can only concatenate str (not \"tuple\") to str', 'can only concatenate str (not \"tuple\") to str', False, False, 'can only concatenate str (not \"tuple\") to str', 'can only concatenate str (not \"tuple\") to str', 'can only concatenate str (not \"tuple\") to str', 'can only concatenate str (not \"tuple\") to str', 'can only concatenate str (not \"tuple\") to str', 'can only concatenate str (not \"tuple\") to str', False, 'can only concatenate str (not \"tuple\") to str', False, 'can only concatenate str (not \"tuple\") to str', 'can only concatenate str (not \"tuple\") to str', False, False, 'can only concatenate str (not \"tuple\") to str', 'can only concatenate str (not \"tuple\") to str', False, False, False, 'can only concatenate str (not \"tuple\") to str', 'can only concatenate str (not \"tuple\") to str', True, 'can only concatenate str (not \"tuple\") to str', 'can only concatenate str (not \"tuple\") to str', False, False, False, False, False, 'can only concatenate str (not \"tuple\") to str', 'can only concatenate str (not \"tuple\") to str', 'can only concatenate str (not \"tuple\") to str', False, 'can only concatenate str (not \"tuple\") to str', 'can only concatenate str (not \"tuple\") to str', 'can only concatenate str (not \"tuple\") to str', 'can only concatenate str (not \"tuple\") to str', 'can only concatenate str (not \"tuple\") to str', 'can only concatenate str (not \"tuple\") to str', 'can only concatenate str (not \"tuple\") to str', 'can only concatenate str (not \"tuple\") to str', 'can only concatenate str (not \"tuple\") to str', 'can only concatenate str (not \"tuple\") to str', 'can only concatenate str (not \"tuple\") to str', False, 'can only concatenate str (not \"tuple\") to str', 'can only concatenate str (not \"tuple\") to str', 'can only concatenate str (not \"tuple\") to str', 'can only concatenate str (not \"tuple\") to str', 'can only concatenate str (not \"tuple\") to str', False, False, 'can only concatenate str (not \"tuple\") to str', False, 'can only concatenate str (not \"tuple\") to str', 'can only concatenate str (not \"tuple\") to str', False, 'can only concatenate str (not \"tuple\") to str', False, 'can only concatenate str (not \"tuple\") to str', 'can only concatenate str (not \"tuple\") to str', False, False, 'can only concatenate str (not \"tuple\") to str', False, 'can only concatenate str (not \"tuple\") to str', 'can only concatenate str (not \"tuple\") to str', 'can only concatenate str (not \"tuple\") to str', 'can only concatenate str (not \"tuple\") to str', 'can only concatenate str (not \"tuple\") to str', 'can only concatenate str (not \"tuple\") to str', 'can only concatenate str (not \"tuple\") to str', 'can only concatenate str (not \"tuple\") to str', 'can only concatenate str (not \"tuple\") to str', False, 'can only concatenate str (not \"tuple\") to str', 'can only concatenate str (not \"tuple\") to str', 'can only concatenate str (not \"tuple\") to str', True, False, False, True, False, False, False, False, False, False, False, False, False, False, False, False, False, False, 'can only concatenate str (not \"tuple\") to str', 'can only concatenate str (not \"tuple\") to str', False, False, 'can only concatenate str (not \"tuple\") to str', 'can only concatenate str (not \"tuple\") to str', 'can only concatenate str (not \"tuple\") to str', 'can only concatenate str (not \"tuple\") to str', 'can only concatenate str (not \"tuple\") to str', 'can only concatenate str (not \"tuple\") to str', 'can only concatenate str (not \"tuple\") to str', 'can only concatenate str (not \"tuple\") to str', 'can only concatenate str (not \"tuple\") to str', 'can only concatenate str (not \"tuple\") to str', 'can only concatenate str (not \"tuple\") to str', 'can only concatenate str (not \"tuple\") to str', 'can only concatenate str (not \"tuple\") to str', False, False, False, False, True, False, 'can only concatenate str (not \"tuple\") to str', False, False, False, False, False, True, False, 'can only concatenate str (not \"tuple\") to str', False, 'can only concatenate str (not \"tuple\") to str', 'can only concatenate str (not \"tuple\") to str', False, 'can only concatenate str (not \"tuple\") to str', False, False]\n"
     ]
    }
   ],
   "source": [
    "%%time\n",
    "# math.ceil(len(data_list)/200)\n",
    "for i in tqdm(range(math.ceil(len(data_list)/150))):\n",
    "    start = 150*i\n",
    "    end = 150*(i+1) \n",
    "    return_val = parallelize(get_tir, all_q[start:end] , all_r[start:end], all_a[start:end])\n",
    "    print(return_val)"
   ]
  },
  {
   "cell_type": "code",
   "execution_count": 13,
   "id": "6cd31efc-545b-462f-98d7-1ebe9da5793d",
   "metadata": {},
   "outputs": [
    {
     "data": {
      "text/plain": [
       "6"
      ]
     },
     "execution_count": 13,
     "metadata": {},
     "output_type": "execute_result"
    }
   ],
   "source": [
    "6"
   ]
  },
  {
   "cell_type": "code",
   "execution_count": 11,
   "id": "c99a188e",
   "metadata": {},
   "outputs": [
    {
     "name": "stdout",
     "output_type": "stream",
     "text": [
      "[False, False, False, False, False, False, False, False, False, False, False, False, False, False, False, False, False, False, False, False, False, True, False, False, False, False, False, False, False, False, False, False, False, False, False, False, True, False, False, False, True, False, False, False, True, False, False, False, False, False, True, False, False, False, False, False, False, False, False, False, False, False, False, False, True, False, False, False, False, False, False, False, False, False, False, False, True, False, False, False, False, False, False, False, False, False, False, True, False, False, False, False, False, False, False, False, False, False, False, False, False, False, True, False, False, False, False, False, False, False, False, True, False, False, False, False, False, False, True, False, False, False, False, False, False, False, False, False, False, False, False, False, False, False, False, False, False, False, True, False, False, False, False, False, False, True, False, False, False, False, False, True, False, False, False, False, False, False, False, False, False, True, False, False, False, False, False, False, False, False, False, False, False, False, False, False, False, False, False, False, False, False, False, False, False, False, False, False, False, False, False, False, False, False, False, False, False, False, False, False]\n"
     ]
    }
   ],
   "source": [
    "print(return_val)"
   ]
  },
  {
   "cell_type": "code",
   "execution_count": 5,
   "id": "e2c0e1d3",
   "metadata": {},
   "outputs": [
    {
     "name": "stdout",
     "output_type": "stream",
     "text": [
      "final length: 1328\n",
      "final length: 7974\n"
     ]
    }
   ],
   "source": [
    "def save_unique(dict_list, name = \"xx.json\"):\n",
    "    json_unique = []\n",
    "    st = set()\n",
    "    for item in dict_list:\n",
    "        if item[\"q\"] in st:\n",
    "            pass\n",
    "        else:\n",
    "            st.add(item[\"q\"])\n",
    "            json_unique.append(item)\n",
    "    print(f\"final length: {len(json_unique)}\")\n",
    "    with open(name, \"w\") as f:\n",
    "        json.dump(json_unique, f , indent = 4)\n",
    "        \n",
    "save_unique(TIR_FULL_RESPONSES, target_TIR_json)\n",
    "save_unique(AFTER_ROUND_RESPONSES, not_worked_json)"
   ]
  }
 ],
 "metadata": {
  "kernelspec": {
   "display_name": "Python 3 (ipykernel)",
   "language": "python",
   "name": "python3"
  },
  "language_info": {
   "codemirror_mode": {
    "name": "ipython",
    "version": 3
   },
   "file_extension": ".py",
   "mimetype": "text/x-python",
   "name": "python",
   "nbconvert_exporter": "python",
   "pygments_lexer": "ipython3",
   "version": "3.11.8"
  }
 },
 "nbformat": 4,
 "nbformat_minor": 5
}
