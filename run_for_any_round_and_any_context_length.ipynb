{
 "cells": [
  {
   "cell_type": "code",
   "execution_count": 1,
   "id": "e4ac0659",
   "metadata": {},
   "outputs": [
    {
     "name": "stderr",
     "output_type": "stream",
     "text": [
      "/opt/conda/lib/python3.11/site-packages/torch/utils/_pytree.py:185: FutureWarning: optree is installed but the version is too old to support PyTorch Dynamo in C++ pytree. C++ pytree support is disabled. Please consider upgrading optree using `python3 -m pip install --upgrade 'optree>=0.13.0'`.\n",
      "  warnings.warn(\n"
     ]
    },
    {
     "name": "stdout",
     "output_type": "stream",
     "text": [
      "samples = 7554\n"
     ]
    }
   ],
   "source": [
    "import os\n",
    "os.environ[\"TOKENIZERS_PARALLELISM\"] = \"true\"\n",
    "from tir_lib import *\n",
    "from globals import *\n",
    "import time\n",
    "import importlib\n",
    "import pandas as pd\n",
    "import math\n",
    "from tqdm import tqdm\n",
    "import json\n",
    "import sys\n",
    "from utils import *\n",
    "\n",
    "# MATH_HINTS = {\n",
    "#     \"complex calculation hint\": \"Wait, I can use Python to perform these complex calculations for this problem.```python\\n\",\n",
    "#     \"self reflection hint\": \"Wait, I can use Python to check if my approach is correct and refine it, if necessary.```python\\n\",\n",
    "#     \"general hint\": \"Wait, using python here may be a good idea.```python\\n\",\n",
    "#     \"alternative method hint\": \"Alternatively, I can use Python to explore an alternative method for solving this problem.```python\\n\",\n",
    "#     \"explore deeply hint\": \"Wait, I can explore deeply about this problem through python tools.```python\\n\",\n",
    "#     \"use python again hint\": \"\"\"Wait, I need to utilize Python code again to meticulously check to make sure I understand the question correctly as well as reasoning correctly.```python\\n\"\"\",\n",
    "# #     \"check logic hint\": \"Maybe Python can assist in ensuring our logical deductions are sound.```python\\n\",\n",
    "# #     \"algebraic manipulation hint\": \"Wait, I can use Python to handle the algebraic manipulation and simplify the expression.```python\\n\",\n",
    "# #     \"solve equations hint\": \"Wait, I can use Python to solve this equation.```python\\n\",\n",
    "# #     \"series or sequences hint\": \"Wait, I can use Python to compute the terms of this series or sequence and identify patterns.```python\\n\",\n",
    "# #     \"validate assumption hint\": \"Wait, I can use Python to validate the assumptions I made in this calculation.```python\\n\",\n",
    "# }\n",
    "\n",
    "################## CONFIG #######\n",
    "input_json = \"wrongs_out_of_18k_heavily_checked.json\"\n",
    "target_TIR_json = \"TIR_FULL_RESPONSES_ROUND_1_18k_DS.json\"\n",
    "not_worked_json = \"AFTER_ROUND_1_RESPONSES_18k_DS.json\"\n",
    "\n",
    "def read_json_1(input_json):\n",
    "    with open(input_json, \"r\") as f:\n",
    "        data = json.load(f)\n",
    "        return data\n",
    "        \n",
    "TIR_FULL_RESPONSES = []\n",
    "AFTER_ROUND_RESPONSES = []\n",
    "#################################\n",
    "data_list = read_json_1(input_json)\n",
    "N = len(data_list)\n",
    "print(f\"samples = {N}\")\n",
    "all_q = [item[\"problem\"] for item in data_list]\n",
    "all_r = [item[\"outputs\"] for item in data_list]\n",
    "all_a = [item[\"answer\"] for item in data_list]"
   ]
  },
  {
   "cell_type": "code",
   "execution_count": 2,
   "id": "b9b11ac4",
   "metadata": {},
   "outputs": [],
   "source": [
    "#################################\n",
    "def get_tir(q,r,a):\n",
    "    length_response = get_length(r)\n",
    "    b = True\n",
    "    code_generated_freq = r.count(\"```python\")\n",
    "    output_generated_freq = r.count(\"```output\")\n",
    "    ########### IF CODE IS PRESENT ######################\n",
    "    if code_generated_freq == output_generated_freq + 1:\n",
    "#         resp = get_code_completion(q, r)\n",
    "        new_r = r + \"```\"\n",
    "        resp_with_output = add_output_at_end(new_r)\n",
    "        added_response, real_tir = get_extra_completion(q, resp_with_output)\n",
    "        full_response = resp_with_output + added_response\n",
    "    elif code_generated_freq > 0:\n",
    "            added_r = insert_hint(q,r)\n",
    "            resp = get_code_completion(q, added_r)\n",
    "            new_r = added_r + resp + \"```\"\n",
    "            resp_with_output, real_tir = add_output_at_end(new_r)\n",
    "            added_response = get_extra_completion(q, resp_with_output)\n",
    "            full_response = resp_with_output + added_response\n",
    "    ########### IF CODE IS NOT PRESENT ######################\n",
    "    elif code_generated_freq == 0:\n",
    "        if length_response < 3200:\n",
    "            added_r = add_prompt_at_end(r)\n",
    "            resp = get_code_completion(q, added_r)\n",
    "            new_r = added_r + resp + \"```\"\n",
    "            resp_with_output, real_tir = add_output_at_end(new_r)\n",
    "            added_response = get_extra_completion(q, resp_with_output)\n",
    "            full_response = resp_with_output + added_response\n",
    "        if length_response > 3200 - 1:\n",
    "            added_r = insert_hint(q,r)\n",
    "            resp = get_code_completion(q, added_r)\n",
    "            new_r = added_r + resp + \"```\"\n",
    "            resp_with_output, real_tir = add_output_at_end(new_r)\n",
    "            added_response = get_extra_completion(q, resp_with_output)\n",
    "            full_response = resp_with_output + added_response\n",
    "    else:\n",
    "        raise Exception(\"some issue with code if - else\") \n",
    "        \n",
    "    gen_ans = extract_boxed_texts(full_response)\n",
    "    if gen_ans is None:\n",
    "        gen_ans = get_answer(full_response)\n",
    "    if real_tir and (gen_ans == str(a) or int(verify_correctness(gen_ans, a))):\n",
    "        TIR_FULL_RESPONSES.append({\"q\": q, \"r\":full_response, \"a\":a})\n",
    "        print(\"TIR succeeded !\")\n",
    "    else:\n",
    "        AFTER_ROUND_RESPONSES.append({\"q\": q, \"r\":full_response, \"a\":a})\n",
    "#         print(\"TIR failed...\")\n",
    "        b = False\n",
    "    return b"
   ]
  },
  {
   "cell_type": "code",
   "execution_count": 16,
   "id": "ed6d9bcd",
   "metadata": {},
   "outputs": [],
   "source": [
    "# print(TIR_FULL_RESPONSES[2][\"r\"])"
   ]
  },
  {
   "cell_type": "code",
   "execution_count": 3,
   "id": "c3d5bfb6",
   "metadata": {},
   "outputs": [
    {
     "data": {
      "text/plain": [
       "0"
      ]
     },
     "execution_count": 3,
     "metadata": {},
     "output_type": "execute_result"
    }
   ],
   "source": [
    "len(TIR_FULL_RESPONSES)"
   ]
  },
  {
   "cell_type": "code",
   "execution_count": 12,
   "id": "2618281a-9942-4ccb-9bfc-c32bfc5273a8",
   "metadata": {},
   "outputs": [],
   "source": [
    "# 10*140/60"
   ]
  },
  {
   "cell_type": "code",
   "execution_count": null,
   "id": "c6fdd7e4",
   "metadata": {
    "scrolled": true
   },
   "outputs": [
    {
     "name": "stderr",
     "output_type": "stream",
     "text": [
      "  0%|          | 0/76 [00:00<?, ?it/s]2025-03-27 09:12:18.380108: I tensorflow/core/util/port.cc:113] oneDNN custom operations are on. You may see slightly different numerical results due to floating-point round-off errors from different computation orders. To turn them off, set the environment variable `TF_ENABLE_ONEDNN_OPTS=0`.\n",
      "2025-03-27 09:12:18.434235: I tensorflow/core/platform/cpu_feature_guard.cc:210] This TensorFlow binary is optimized to use available CPU instructions in performance-critical operations.\n",
      "To enable the following instructions: AVX2 AVX512F AVX512_VNNI AVX512_BF16 FMA, in other operations, rebuild TensorFlow with the appropriate compiler flags.\n",
      "2025-03-27 09:12:19.395229: W tensorflow/compiler/tf2tensorrt/utils/py_utils.cc:38] TF-TRT Warning: Could not find TensorRT\n"
     ]
    },
    {
     "name": "stdout",
     "output_type": "stream",
     "text": [
      "TIR succeeded !\n",
      "TIR succeeded !\n",
      "TIR succeeded !\n",
      "TIR succeeded !\n",
      "TIR succeeded !\n",
      "TIR succeeded !\n",
      "TIR succeeded !\n",
      "TIR succeeded !\n",
      "TIR succeeded !\n"
     ]
    },
    {
     "name": "stderr",
     "output_type": "stream",
     "text": [
      "  1%|▏         | 1/76 [02:12<2:46:06, 132.89s/it]"
     ]
    },
    {
     "name": "stdout",
     "output_type": "stream",
     "text": [
      "[False, False, False, False, False, False, False, False, False, False, False, False, False, False, False, False, False, False, False, False, False, False, False, False, False, False, False, False, False, False, False, False, False, False, False, False, False, False, False, True, True, False, False, True, True, False, False, False, False, False, True, False, False, False, False, False, False, False, False, False, False, False, False, False, False, False, False, False, False, False, False, False, False, False, False, False, True, False, True, False, False, False, False, False, False, False, True, False, True, False, False, False, False, False, False, False, False, False, False, False]\n",
      "TIR succeeded !\n",
      "TIR succeeded !\n",
      "TIR succeeded !\n",
      "TIR succeeded !\n",
      "TIR succeeded !\n",
      "TIR succeeded !\n"
     ]
    },
    {
     "name": "stderr",
     "output_type": "stream",
     "text": [
      "  3%|▎         | 2/76 [04:53<3:04:08, 149.30s/it]"
     ]
    },
    {
     "name": "stdout",
     "output_type": "stream",
     "text": [
      "[True, False, True, False, False, False, False, False, False, False, False, False, False, False, False, False, False, False, False, False, False, False, False, False, False, False, False, False, False, False, False, False, False, False, False, False, False, False, True, False, False, False, False, False, False, False, False, False, False, False, False, True, False, False, False, False, False, False, False, False, False, False, True, False, False, False, False, False, False, False, False, False, False, True, False, False, False, False, False, False, False, False, False, False, False, False, False, False, False, False, False, False, False, False, False, False, False, False, False, False]\n",
      "TIR succeeded !\n",
      "TIR succeeded !\n",
      "TIR succeeded !\n",
      "TIR succeeded !\n",
      "TIR succeeded !\n",
      "TIR succeeded !\n",
      "TIR succeeded !\n",
      "TIR succeeded !\n",
      "TIR succeeded !\n"
     ]
    },
    {
     "name": "stderr",
     "output_type": "stream",
     "text": [
      "  4%|▍         | 3/76 [07:12<2:55:58, 144.64s/it]"
     ]
    },
    {
     "name": "stdout",
     "output_type": "stream",
     "text": [
      "[False, False, False, False, False, False, False, False, True, True, False, False, False, False, False, False, True, False, False, False, False, False, False, False, False, False, True, False, False, False, False, False, False, False, False, False, False, False, False, False, False, False, False, False, True, False, False, True, False, False, False, False, False, False, False, False, False, False, False, False, False, False, False, False, False, False, True, False, False, False, False, False, False, False, False, False, False, False, False, False, False, False, False, True, False, False, False, False, False, False, False, False, False, False, False, False, False, False, False, True]\n",
      "TIR succeeded !\n",
      "TIR succeeded !\n",
      "TIR succeeded !\n",
      "TIR succeeded !\n",
      "TIR succeeded !\n"
     ]
    },
    {
     "name": "stderr",
     "output_type": "stream",
     "text": [
      "  5%|▌         | 4/76 [09:44<2:56:58, 147.48s/it]"
     ]
    },
    {
     "name": "stdout",
     "output_type": "stream",
     "text": [
      "[False, False, False, True, False, False, False, False, False, False, False, False, False, False, False, False, False, False, False, False, False, False, False, False, False, False, False, False, False, False, False, False, False, False, False, True, False, False, False, False, True, False, False, False, False, False, False, False, False, False, False, False, False, False, False, False, False, False, False, False, False, False, False, False, False, False, False, False, False, False, False, False, False, False, False, False, False, False, False, False, False, False, True, False, False, False, False, False, False, False, False, False, False, False, False, False, True, False, False, False]\n",
      "TIR succeeded !\n",
      "TIR succeeded !\n",
      "TIR succeeded !\n",
      "TIR succeeded !\n",
      "TIR succeeded !\n",
      "TIR succeeded !\n",
      "TIR succeeded !\n"
     ]
    },
    {
     "name": "stderr",
     "output_type": "stream",
     "text": [
      "  7%|▋         | 5/76 [12:24<2:59:48, 151.95s/it]"
     ]
    },
    {
     "name": "stdout",
     "output_type": "stream",
     "text": [
      "[False, True, False, False, True, False, False, False, False, False, False, False, False, False, False, False, False, False, False, False, False, False, False, False, False, False, False, False, False, True, False, False, False, True, False, False, False, False, False, False, False, False, False, False, False, False, False, False, False, False, False, False, False, False, False, False, False, False, False, False, False, False, False, True, False, False, False, False, False, False, False, False, False, False, False, False, False, False, False, False, False, False, False, False, False, True, False, False, False, True, False, False, False, False, False, False, False, False, False, False]\n",
      "TIR succeeded !\n",
      "TIR succeeded !\n",
      "TIR succeeded !\n",
      "TIR succeeded !\n"
     ]
    },
    {
     "name": "stderr",
     "output_type": "stream",
     "text": [
      "  8%|▊         | 6/76 [15:15<3:04:52, 158.47s/it]"
     ]
    },
    {
     "name": "stdout",
     "output_type": "stream",
     "text": [
      "[False, False, True, False, False, False, False, False, False, False, False, False, False, False, False, False, False, False, False, False, False, False, False, False, False, False, False, False, False, False, False, False, False, False, False, False, False, False, False, False, False, False, False, False, False, False, False, False, False, False, False, False, False, False, False, False, False, False, False, False, False, False, False, False, False, False, False, False, False, False, False, False, False, False, False, False, False, False, False, False, False, False, True, False, False, False, False, True, False, False, False, False, True, False, False, False, False, False, False, False]\n",
      "TIR succeeded !\n",
      "TIR succeeded !\n",
      "TIR succeeded !\n",
      "TIR succeeded !\n",
      "TIR succeeded !\n",
      "TIR succeeded !\n",
      "TIR succeeded !\n",
      "TIR succeeded !\n"
     ]
    },
    {
     "name": "stderr",
     "output_type": "stream",
     "text": [
      "  9%|▉         | 7/76 [17:46<2:59:12, 155.84s/it]"
     ]
    },
    {
     "name": "stdout",
     "output_type": "stream",
     "text": [
      "[False, False, False, False, False, False, False, True, False, False, False, False, False, False, False, False, False, True, False, False, False, False, False, False, False, False, False, False, False, False, False, True, False, False, False, False, False, False, False, False, False, False, False, True, False, False, False, False, False, False, False, False, False, False, False, False, False, False, False, True, False, False, False, False, False, False, False, False, False, False, False, False, False, True, False, False, False, True, False, False, False, False, False, False, False, True, False, False, False, False, False, False, False, False, False, False, False, False, False, False]\n",
      "TIR succeeded !\n",
      "TIR succeeded !\n",
      "TIR succeeded !\n",
      "TIR succeeded !\n",
      "TIR succeeded !\n",
      "TIR succeeded !\n",
      "TIR succeeded !\n",
      "TIR succeeded !\n",
      "TIR succeeded !\n",
      "TIR succeeded !\n",
      "TIR succeeded !\n"
     ]
    },
    {
     "name": "stderr",
     "output_type": "stream",
     "text": [
      " 11%|█         | 8/76 [20:15<2:54:09, 153.66s/it]"
     ]
    },
    {
     "name": "stdout",
     "output_type": "stream",
     "text": [
      "[False, False, False, True, False, False, False, False, False, False, False, False, False, False, False, False, True, False, False, False, False, False, False, False, False, False, False, False, False, False, False, False, True, False, False, False, False, True, False, False, False, False, False, False, False, False, False, False, False, False, True, False, False, False, False, False, False, False, False, False, False, True, True, False, False, False, False, False, False, False, False, False, False, True, False, False, False, False, False, False, False, False, False, False, False, False, False, False, False, False, False, False, False, True, False, False, True, True, False, False]\n",
      "TIR succeeded !\n",
      "TIR succeeded !\n"
     ]
    },
    {
     "name": "stderr",
     "output_type": "stream",
     "text": [
      "/opt/conda/lib/python3.11/site-packages/IPython/core/pylabtools.py:152: UserWarning: Glyph 30340 (\\N{CJK UNIFIED IDEOGRAPH-7684}) missing from current font.\n",
      "  fig.canvas.print_figure(bytes_io, **kw)\n",
      "/opt/conda/lib/python3.11/site-packages/IPython/core/pylabtools.py:152: UserWarning: Glyph 22270 (\\N{CJK UNIFIED IDEOGRAPH-56FE}) missing from current font.\n",
      "  fig.canvas.print_figure(bytes_io, **kw)\n",
      "/opt/conda/lib/python3.11/site-packages/IPython/core/pylabtools.py:152: UserWarning: Glyph 24418 (\\N{CJK UNIFIED IDEOGRAPH-5F62}) missing from current font.\n",
      "  fig.canvas.print_figure(bytes_io, **kw)\n"
     ]
    },
    {
     "data": {
      "image/png": "[encoded data removed]",
      "text/plain": [
       "<Figure size 640x480 with 1 Axes>"
      ]
     },
     "metadata": {},
     "output_type": "display_data"
    },
    {
     "name": "stdout",
     "output_type": "stream",
     "text": [
      "TIR succeeded !\n",
      "TIR succeeded !\n",
      "TIR succeeded !\n",
      "TIR succeeded !\n",
      "TIR succeeded !\n",
      "TIR succeeded !\n",
      "TIR succeeded !\n",
      "TIR succeeded !\n",
      "TIR succeeded !\n",
      "TIR succeeded !\n"
     ]
    },
    {
     "name": "stderr",
     "output_type": "stream",
     "text": [
      " 12%|█▏        | 9/76 [22:55<2:54:02, 155.85s/it]"
     ]
    },
    {
     "name": "stdout",
     "output_type": "stream",
     "text": [
      "[False, False, False, False, True, False, False, False, True, False, False, False, False, False, False, False, False, False, False, False, False, False, True, False, False, False, False, False, False, False, False, False, False, False, False, False, False, False, False, False, False, True, False, False, False, False, False, False, False, False, False, True, False, False, False, False, True, False, False, False, False, False, False, False, True, False, False, True, False, False, False, False, False, False, False, False, False, False, False, False, True, False, False, False, False, False, False, False, False, True, False, False, False, False, False, False, True, True, False, False]\n",
      "TIR succeeded !\n",
      "TIR succeeded !\n",
      "TIR succeeded !\n",
      "TIR succeeded !\n",
      "TIR succeeded !\n",
      "TIR succeeded !\n",
      "TIR succeeded !\n",
      "TIR succeeded !\n",
      "TIR succeeded !\n",
      "TIR succeeded !\n",
      "TIR succeeded !\n",
      "TIR succeeded !\n",
      "TIR succeeded !\n"
     ]
    },
    {
     "name": "stderr",
     "output_type": "stream",
     "text": [
      " 13%|█▎        | 10/76 [25:30<2:51:01, 155.48s/it]"
     ]
    },
    {
     "name": "stdout",
     "output_type": "stream",
     "text": [
      "[False, False, False, False, True, False, False, False, False, False, False, True, False, False, False, False, False, False, False, False, False, False, True, False, False, False, False, False, False, True, False, False, False, False, False, False, False, False, False, False, False, True, False, True, False, False, False, False, False, False, False, False, False, False, False, False, True, False, False, False, False, False, False, False, True, False, True, False, False, False, False, False, False, True, False, False, True, False, True, False, False, False, False, False, False, False, False, False, False, False, False, False, False, False, False, False, False, False, True, False]\n",
      "TIR succeeded !\n",
      "TIR succeeded !\n",
      "TIR succeeded !\n",
      "TIR succeeded !\n",
      "TIR succeeded !\n",
      "TIR succeeded !\n",
      "TIR succeeded !\n",
      "TIR succeeded !\n",
      "TIR succeeded !\n",
      "TIR succeeded !\n",
      "TIR succeeded !\n",
      "TIR succeeded !\n"
     ]
    },
    {
     "name": "stderr",
     "output_type": "stream",
     "text": [
      " 14%|█▍        | 11/76 [28:03<2:47:41, 154.79s/it]"
     ]
    },
    {
     "name": "stdout",
     "output_type": "stream",
     "text": [
      "[True, False, False, False, False, False, False, False, False, False, False, False, False, True, False, False, False, False, False, False, False, False, False, False, False, False, False, False, False, False, False, True, False, False, False, False, False, False, False, False, False, False, False, False, False, False, False, False, False, False, False, True, False, True, False, False, False, False, False, False, True, True, False, True, False, True, False, False, False, False, True, False, False, False, False, False, False, False, True, False, False, False, True, False, False, False, False, False, False, False, False, False, False, False, False, False, False, False, False, False]\n",
      "TIR succeeded !\n",
      "TIR succeeded !\n",
      "TIR succeeded !\n",
      "TIR succeeded !\n",
      "TIR succeeded !\n",
      "TIR succeeded !\n",
      "TIR succeeded !\n",
      "TIR succeeded !\n",
      "TIR succeeded !\n"
     ]
    },
    {
     "name": "stderr",
     "output_type": "stream",
     "text": [
      " 16%|█▌        | 12/76 [30:27<2:41:42, 151.61s/it]"
     ]
    },
    {
     "name": "stdout",
     "output_type": "stream",
     "text": [
      "[False, False, False, False, False, False, True, False, False, False, False, False, False, False, False, False, False, False, False, False, False, False, False, False, False, False, False, False, False, True, False, True, True, False, False, False, False, False, False, False, False, False, False, False, False, False, False, False, False, False, False, False, True, False, False, False, False, False, False, False, False, False, False, False, False, False, False, False, True, False, False, True, False, False, False, False, False, False, False, False, False, False, False, False, False, False, False, False, False, False, False, False, False, False, False, False, True, False, True, False]\n",
      "TIR succeeded !\n",
      "TIR succeeded !\n",
      "TIR succeeded !\n",
      "TIR succeeded !\n",
      "TIR succeeded !\n",
      "TIR succeeded !\n",
      "TIR succeeded !\n",
      "TIR succeeded !\n",
      "TIR succeeded !\n",
      "TIR succeeded !\n"
     ]
    },
    {
     "name": "stderr",
     "output_type": "stream",
     "text": [
      " 17%|█▋        | 13/76 [33:12<2:43:21, 155.57s/it]"
     ]
    },
    {
     "name": "stdout",
     "output_type": "stream",
     "text": [
      "[False, False, False, False, False, False, False, True, False, False, False, False, False, False, False, False, False, False, False, False, False, False, False, False, False, True, False, False, True, False, False, False, False, False, False, False, False, False, False, False, False, False, True, False, False, False, False, False, False, False, False, False, False, False, False, False, False, False, False, False, True, True, False, True, False, False, False, False, True, False, False, False, False, False, False, False, True, False, False, False, False, False, False, False, False, True, False, False, False, False, False, False, False, False, False, False, False, False, False, False]\n",
      "TIR succeeded !\n",
      "TIR succeeded !\n",
      "TIR succeeded !\n",
      "TIR succeeded !\n",
      "TIR succeeded !\n",
      "TIR succeeded !\n",
      "TIR succeeded !\n",
      "TIR succeeded !\n",
      "TIR succeeded !\n",
      "TIR succeeded !\n",
      "TIR succeeded !\n",
      "TIR succeeded !\n"
     ]
    },
    {
     "name": "stderr",
     "output_type": "stream",
     "text": [
      " 18%|█▊        | 14/76 [36:49<2:59:45, 173.97s/it]"
     ]
    },
    {
     "name": "stdout",
     "output_type": "stream",
     "text": [
      "[False, False, False, False, False, False, False, False, False, False, False, False, False, True, True, False, False, True, False, False, False, True, False, True, False, False, False, False, False, False, False, False, False, False, False, False, False, False, False, True, False, False, False, False, False, False, False, False, False, False, False, False, False, False, False, False, False, False, False, False, False, False, False, False, False, False, False, False, True, False, False, False, False, False, True, False, False, False, True, False, False, False, True, True, False, False, False, False, False, False, False, False, False, False, False, False, False, True, False, False]\n",
      "TIR succeeded !\n",
      "TIR succeeded !\n",
      "TIR succeeded !\n",
      "TIR succeeded !\n",
      "TIR succeeded !\n",
      "TIR succeeded !\n",
      "TIR succeeded !\n",
      "TIR succeeded !\n",
      "TIR succeeded !\n",
      "TIR succeeded !\n",
      "TIR succeeded !\n",
      "TIR succeeded !\n"
     ]
    },
    {
     "name": "stderr",
     "output_type": "stream",
     "text": [
      " 20%|█▉        | 15/76 [39:11<2:47:19, 164.59s/it]"
     ]
    },
    {
     "name": "stdout",
     "output_type": "stream",
     "text": [
      "[True, False, False, False, False, False, False, True, False, False, False, False, False, False, False, False, False, False, True, False, False, False, False, False, False, False, False, True, False, False, False, False, False, False, False, False, False, False, False, False, False, False, False, False, True, False, False, False, True, False, False, False, False, False, False, False, False, False, False, False, False, False, False, False, True, True, False, True, False, False, False, False, False, False, False, False, False, False, False, False, False, False, True, False, False, False, False, False, False, False, False, True, False, False, False, True, False, False, False, False]\n",
      "TIR succeeded !\n",
      "TIR succeeded !\n",
      "TIR succeeded !\n",
      "TIR succeeded !\n",
      "TIR succeeded !\n",
      "TIR succeeded !\n",
      "TIR succeeded !\n",
      "TIR succeeded !\n"
     ]
    },
    {
     "name": "stderr",
     "output_type": "stream",
     "text": [
      " 21%|██        | 16/76 [41:49<2:42:27, 162.45s/it]"
     ]
    },
    {
     "name": "stdout",
     "output_type": "stream",
     "text": [
      "[False, False, False, False, False, False, False, False, False, False, False, False, False, False, False, True, False, False, False, False, False, False, False, False, False, False, False, False, False, False, False, False, False, False, False, True, False, False, False, False, False, False, False, False, False, False, False, True, False, False, False, False, False, False, True, False, False, False, False, False, False, False, False, False, False, False, False, False, False, False, False, False, True, False, False, False, True, False, False, False, False, False, False, True, False, False, True, False, False, False, False, False, False, False, False, False, False, False, False, False]\n",
      "TIR succeeded !\n",
      "TIR succeeded !\n",
      "TIR succeeded !\n",
      "TIR succeeded !\n",
      "TIR succeeded !\n"
     ]
    },
    {
     "name": "stderr",
     "output_type": "stream",
     "text": [
      " 22%|██▏       | 17/76 [44:26<2:38:16, 160.96s/it]"
     ]
    },
    {
     "name": "stdout",
     "output_type": "stream",
     "text": [
      "[False, False, False, False, False, False, False, False, False, False, False, False, False, False, False, False, False, False, False, False, False, True, False, False, False, False, False, False, True, False, False, False, True, False, False, False, False, False, False, False, False, False, False, False, False, False, False, False, False, False, False, False, False, False, False, False, False, False, False, False, False, False, False, False, False, False, False, False, False, False, False, False, False, False, False, False, False, False, False, False, False, False, False, False, False, False, False, False, True, False, False, False, False, True, False, False, False, False, False, False]\n",
      "TIR succeeded !\n",
      "TIR succeeded !\n",
      "TIR succeeded !\n",
      "TIR succeeded !\n",
      "TIR succeeded !\n",
      "TIR succeeded !\n",
      "TIR succeeded !\n"
     ]
    },
    {
     "name": "stderr",
     "output_type": "stream",
     "text": [
      " 24%|██▎       | 18/76 [46:50<2:30:29, 155.69s/it]"
     ]
    },
    {
     "name": "stdout",
     "output_type": "stream",
     "text": [
      "[False, False, False, False, False, False, False, True, False, False, False, False, False, False, False, False, False, False, False, False, False, False, False, False, False, False, False, False, False, False, False, False, False, True, False, False, True, False, False, False, False, False, False, False, False, False, False, False, False, False, False, True, False, False, False, False, False, False, False, False, False, False, False, False, False, False, False, False, True, False, False, False, False, False, False, False, False, True, False, False, False, False, False, False, False, False, False, False, False, False, False, False, False, False, False, False, False, False, True, False]\n",
      "TIR succeeded !\n",
      "TIR succeeded !\n",
      "TIR succeeded !\n",
      "TIR succeeded !\n",
      "TIR succeeded !\n",
      "TIR succeeded !\n",
      "TIR succeeded !\n",
      "TIR succeeded !\n",
      "TIR succeeded !\n",
      "TIR succeeded !\n"
     ]
    },
    {
     "name": "stderr",
     "output_type": "stream",
     "text": [
      " 25%|██▌       | 19/76 [49:15<2:24:58, 152.61s/it]"
     ]
    },
    {
     "name": "stdout",
     "output_type": "stream",
     "text": [
      "[False, False, False, False, True, False, False, False, False, False, False, False, True, False, False, False, False, True, False, False, False, False, False, False, False, False, True, False, False, False, False, False, False, False, False, False, False, False, False, False, False, False, False, False, False, False, False, False, False, False, False, False, False, False, False, False, False, False, False, False, True, True, True, False, False, False, False, False, True, False, False, True, False, False, False, False, False, False, False, False, False, False, False, False, True, False, False, False, False, False, False, False, False, False, False, False, False, False, False, False]\n",
      "TIR succeeded !\n",
      "TIR succeeded !\n",
      "TIR succeeded !\n",
      "TIR succeeded !\n",
      "TIR succeeded !\n",
      "TIR succeeded !\n",
      "TIR succeeded !\n",
      "TIR succeeded !\n",
      "TIR succeeded !\n",
      "TIR succeeded !\n"
     ]
    },
    {
     "name": "stderr",
     "output_type": "stream",
     "text": [
      " 26%|██▋       | 20/76 [51:56<2:24:43, 155.05s/it]"
     ]
    },
    {
     "name": "stdout",
     "output_type": "stream",
     "text": [
      "[False, False, False, False, False, False, False, False, False, False, False, False, False, False, False, False, True, False, True, False, False, False, True, True, False, False, False, False, False, False, False, False, False, False, False, False, False, False, False, False, False, False, False, False, False, False, False, False, False, False, True, False, False, False, False, False, False, False, False, False, True, False, False, False, False, False, False, False, False, False, True, False, False, False, False, False, False, False, False, False, False, False, False, False, True, False, True, False, False, False, False, False, False, False, False, False, False, False, False, True]\n",
      "TIR succeeded !\n",
      "TIR succeeded !\n",
      "TIR succeeded !\n",
      "api error occured!\n",
      "api error occured!\n",
      "api error occured!\n",
      "TIR succeeded !\n",
      "api error occured!\n",
      "api error occured!\n",
      "api error occured!\n",
      "api error occured!\n",
      "api error occured!\n",
      "api error occured!\n",
      "api error occured!\n",
      "api error occured!\n",
      "api error occured!\n",
      "api error occured!\n",
      "api error occured!\n",
      "api error occured!\n",
      "api error occured!\n",
      "api error occured!\n",
      "api error occured!\n",
      "api error occured!\n",
      "TIR succeeded !\n",
      "TIR succeeded !\n"
     ]
    },
    {
     "name": "stderr",
     "output_type": "stream",
     "text": [
      " 28%|██▊       | 21/76 [54:15<2:17:49, 150.36s/it]"
     ]
    },
    {
     "name": "stdout",
     "output_type": "stream",
     "text": [
      "[False, True, False, False, False, False, False, \"'line_number'\", 'can only concatenate str (not \"NoneType\") to str', False, False, False, False, \"'hint_type'\", 'can only concatenate str (not \"NoneType\") to str', False, False, 'can only concatenate str (not \"NoneType\") to str', \"'hint_type'\", 'can only concatenate str (not \"NoneType\") to str', False, False, False, False, False, \"'hint_type'\", False, \"'hint_type'\", False, False, True, False, False, False, \"'hint_type'\", 'can only concatenate str (not \"NoneType\") to str', False, False, False, False, False, False, False, False, False, False, False, False, \"'line_number'\", False, False, False, False, False, False, True, \"'hint_type'\", False, \"'hint_type'\", False, False, \"'hint_type'\", False, \"'hint_type'\", False, False, False, False, False, False, False, False, False, False, False, False, False, False, True, False, False, 'can only concatenate str (not \"NoneType\") to str', False, False, False, False, True, False, True, False, False, False, False, False, \"'hint_type'\", \"'hint_type'\", False, False, False, False]\n",
      "TIR succeeded !\n",
      "TIR succeeded !\n",
      "TIR succeeded !\n",
      "TIR succeeded !\n",
      "TIR succeeded !\n",
      "TIR succeeded !\n",
      "TIR succeeded !\n"
     ]
    },
    {
     "name": "stderr",
     "output_type": "stream",
     "text": [
      " 29%|██▉       | 22/76 [56:55<2:17:41, 153.00s/it]"
     ]
    },
    {
     "name": "stdout",
     "output_type": "stream",
     "text": [
      "[False, False, False, False, False, False, False, False, False, True, False, False, False, False, False, False, False, False, False, False, True, False, False, False, False, False, True, False, False, False, False, False, False, False, False, False, False, False, False, False, False, False, False, False, False, False, False, False, False, False, False, False, False, False, False, False, False, False, False, False, True, False, False, False, False, False, False, False, True, False, False, False, False, False, False, False, False, False, False, True, False, True, False, False, False, False, False, False, False, False, False, False, False, False, False, False, False, False, False, False]\n",
      "TIR succeeded !\n",
      "TIR succeeded !\n",
      "TIR succeeded !\n",
      "TIR succeeded !\n",
      "TIR succeeded !\n",
      "TIR succeeded !\n",
      "TIR succeeded !\n",
      "TIR succeeded !\n",
      "TIR succeeded !\n",
      "TIR succeeded !\n",
      "TIR succeeded !\n",
      "TIR succeeded !\n"
     ]
    },
    {
     "name": "stderr",
     "output_type": "stream",
     "text": [
      " 30%|███       | 23/76 [59:24<2:14:05, 151.81s/it]"
     ]
    },
    {
     "name": "stdout",
     "output_type": "stream",
     "text": [
      "[False, True, True, False, False, False, True, True, False, False, False, False, False, False, False, False, False, False, False, True, True, False, False, False, False, False, False, False, True, True, False, False, False, False, False, False, False, False, False, False, False, False, False, False, True, False, False, False, False, False, False, False, False, False, False, True, False, False, False, False, False, False, False, False, True, False, False, False, False, False, False, False, False, False, False, False, False, False, False, False, False, False, False, False, False, False, False, False, False, False, False, False, False, True, False, False, False, False, False, False]\n",
      "TIR succeeded !\n",
      "TIR succeeded !\n",
      "TIR succeeded !\n",
      "TIR succeeded !\n",
      "TIR succeeded !\n"
     ]
    },
    {
     "name": "stderr",
     "output_type": "stream",
     "text": [
      " 32%|███▏      | 24/76 [1:02:08<2:14:55, 155.68s/it]"
     ]
    },
    {
     "name": "stdout",
     "output_type": "stream",
     "text": [
      "[False, False, False, False, False, False, False, False, False, False, False, False, False, False, False, False, False, False, False, False, False, False, False, False, False, False, False, False, False, False, False, False, False, False, False, False, False, False, True, False, False, False, False, False, False, False, False, False, False, False, False, False, False, False, False, False, False, False, False, False, True, False, True, False, False, False, False, False, False, False, False, False, False, True, False, False, False, False, False, False, True, False, False, False, False, False, False, False, False, False, False, False, False, False, False, False, False, False, False, False]\n",
      "TIR succeeded !\n",
      "TIR succeeded !\n",
      "TIR succeeded !\n",
      "TIR succeeded !\n",
      "TIR succeeded !\n",
      "TIR succeeded !\n"
     ]
    },
    {
     "name": "stderr",
     "output_type": "stream",
     "text": [
      " 33%|███▎      | 25/76 [1:04:38<2:10:49, 153.90s/it]"
     ]
    },
    {
     "name": "stdout",
     "output_type": "stream",
     "text": [
      "[False, False, False, False, False, False, False, False, False, False, False, False, False, False, False, False, False, False, False, False, False, False, False, False, False, True, False, False, False, False, False, False, False, False, False, False, False, False, False, False, False, False, False, False, False, False, False, False, True, False, True, False, False, False, True, False, False, False, False, False, False, False, False, False, False, False, False, False, False, False, False, False, False, False, False, False, False, False, False, False, False, False, False, False, False, True, False, False, False, False, False, False, False, False, False, False, False, False, False, True]\n",
      "TIR succeeded !\n",
      "TIR succeeded !\n",
      "TIR succeeded !\n",
      "TIR succeeded !\n",
      "TIR succeeded !\n",
      "TIR succeeded !\n"
     ]
    },
    {
     "name": "stderr",
     "output_type": "stream",
     "text": [
      " 34%|███▍      | 26/76 [1:07:17<2:09:30, 155.41s/it]"
     ]
    },
    {
     "name": "stdout",
     "output_type": "stream",
     "text": [
      "[False, False, False, False, False, False, False, False, False, True, False, False, False, True, False, False, False, False, False, False, False, False, False, True, False, False, False, False, False, False, False, False, False, False, False, False, False, False, False, False, False, False, False, False, False, False, False, False, False, False, False, False, False, False, False, False, False, False, False, False, False, False, False, True, False, False, False, False, False, False, False, False, False, False, True, False, False, False, False, False, False, False, False, False, False, False, False, False, False, False, True, False, False, False, False, False, False, False, False, False]\n",
      "TIR succeeded !\n",
      "TIR succeeded !TIR succeeded !\n",
      "\n",
      "TIR succeeded !\n",
      "TIR succeeded !\n",
      "TIR succeeded !\n",
      "TIR succeeded !\n",
      "TIR succeeded !\n",
      "TIR succeeded !\n"
     ]
    },
    {
     "name": "stderr",
     "output_type": "stream",
     "text": [
      " 36%|███▌      | 27/76 [1:09:52<2:06:43, 155.18s/it]"
     ]
    },
    {
     "name": "stdout",
     "output_type": "stream",
     "text": [
      "[False, False, False, False, False, True, False, False, False, False, False, False, False, False, True, False, False, False, False, True, False, False, False, False, False, False, False, False, True, False, False, False, False, True, False, False, False, False, False, False, False, False, False, True, False, False, True, False, False, False, False, False, True, False, False, False, False, False, False, False, False, False, False, False, False, False, False, False, False, False, False, False, False, False, False, False, False, False, False, False, False, False, False, False, False, False, False, False, False, False, False, False, False, False, False, True, False, False, False, False]\n",
      "TIR succeeded !\n",
      "TIR succeeded !\n",
      "TIR succeeded !\n",
      "TIR succeeded !\n",
      "TIR succeeded !\n"
     ]
    },
    {
     "name": "stderr",
     "output_type": "stream",
     "text": [
      " 37%|███▋      | 28/76 [1:12:27<2:04:16, 155.34s/it]"
     ]
    },
    {
     "name": "stdout",
     "output_type": "stream",
     "text": [
      "[False, False, False, False, False, False, False, False, False, False, False, False, False, False, False, False, False, False, False, False, False, False, False, False, False, False, False, False, False, False, False, False, False, False, False, False, False, False, False, False, False, False, False, False, False, False, False, False, False, False, False, False, True, False, False, False, False, False, False, False, False, False, False, False, False, False, False, False, False, True, False, False, False, False, False, False, False, False, False, False, True, False, False, False, True, False, False, False, True, False, False, False, False, False, False, False, False, False, False, False]\n",
      "TIR succeeded !\n",
      "TIR succeeded !\n",
      "TIR succeeded !\n",
      "TIR succeeded !\n",
      "TIR succeeded !\n",
      "TIR succeeded !\n"
     ]
    },
    {
     "name": "stderr",
     "output_type": "stream",
     "text": [
      " 38%|███▊      | 29/76 [1:15:04<2:01:58, 155.70s/it]"
     ]
    },
    {
     "name": "stdout",
     "output_type": "stream",
     "text": [
      "[False, False, True, False, False, False, False, False, True, False, False, False, False, False, False, False, False, False, False, False, False, False, False, False, False, False, False, False, False, False, False, False, False, False, False, False, True, False, False, True, False, False, False, False, False, False, False, False, False, False, False, False, True, False, False, False, False, False, False, False, False, False, False, False, False, False, False, False, False, False, False, False, False, False, False, False, False, False, False, False, False, True, False, False, False, False, False, False, False, False, False, False, False, False, False, False, False, False, False, False]\n",
      "TIR succeeded !\n",
      "TIR succeeded !\n",
      "TIR succeeded !\n",
      "TIR succeeded !\n",
      "TIR succeeded !\n",
      "TIR succeeded !\n",
      "TIR succeeded !\n",
      "TIR succeeded !\n",
      "TIR succeeded !\n",
      "TIR succeeded !\n",
      "TIR succeeded !\n",
      "TIR succeeded !\n"
     ]
    },
    {
     "name": "stderr",
     "output_type": "stream",
     "text": [
      " 39%|███▉      | 30/76 [1:17:47<2:01:10, 158.06s/it]"
     ]
    },
    {
     "name": "stdout",
     "output_type": "stream",
     "text": [
      "[False, False, False, False, False, False, True, False, False, False, False, False, False, False, False, False, True, False, False, False, False, False, False, False, False, True, False, False, False, False, False, False, False, False, False, False, True, False, False, True, False, False, False, False, False, False, False, False, False, False, False, False, False, False, False, False, False, False, True, False, True, False, False, False, False, False, False, False, False, True, False, True, False, True, False, False, False, False, False, False, False, False, False, False, False, False, False, True, True, False, False, False, False, False, False, False, False, False, False, False]\n",
      "api error occured!\n",
      "api error occured!\n",
      "api error occured!\n",
      "api error occured!\n",
      "api error occured!\n",
      "api error occured!\n",
      "api error occured!\n",
      "api error occured!\n",
      "api error occured!\n",
      "api error occured!\n",
      "api error occured!\n",
      "api error occured!\n",
      "api error occured!\n",
      "api error occured!\n",
      "api error occured!\n",
      "api error occured!\n",
      "api error occured!\n",
      "api error occured!\n",
      "api error occured!\n",
      "api error occured!\n",
      "api error occured!\n",
      "api error occured!\n",
      "api error occured!\n",
      "api error occured!\n",
      "api error occured!\n",
      "api error occured!\n",
      "api error occured!\n",
      "api error occured!\n",
      "api error occured!\n",
      "api error occured!\n",
      "api error occured!\n",
      "api error occured!\n",
      "api error occured!\n",
      "api error occured!\n",
      "api error occured!\n",
      "api error occured!\n",
      "api error occured!\n",
      "api error occured!\n",
      "api error occured!\n",
      "api error occured!\n",
      "api error occured!\n",
      "api error occured!\n",
      "api error occured!\n",
      "api error occured!\n",
      "api error occured!\n",
      "api error occured!\n",
      "api error occured!\n",
      "api error occured!\n",
      "api error occured!\n",
      "api error occured!\n",
      "api error occured!\n",
      "api error occured!\n",
      "api error occured!\n",
      "api error occured!\n",
      "api error occured!\n",
      "api error occured!\n",
      "api error occured!\n",
      "api error occured!\n",
      "api error occured!\n",
      "api error occured!\n",
      "api error occured!\n",
      "api error occured!\n",
      "api error occured!\n",
      "api error occured!\n",
      "TIR succeeded !\n",
      "TIR succeeded !\n"
     ]
    },
    {
     "name": "stderr",
     "output_type": "stream",
     "text": [
      " 41%|████      | 31/76 [1:19:17<1:43:09, 137.54s/it]"
     ]
    },
    {
     "name": "stdout",
     "output_type": "stream",
     "text": [
      "[\"Error code: 429 - {'error': {'message': 'Model busy, retry later'}}\", \"Error code: 429 - {'error': {'message': 'Model busy, retry later'}}\", \"Error code: 429 - {'error': {'message': 'Model busy, retry later'}}\", \"Error code: 429 - {'error': {'message': 'Model busy, retry later'}}\", False, False, False, \"Error code: 429 - {'error': {'message': 'Model busy, retry later'}}\", \"Error code: 429 - {'error': {'message': 'Model busy, retry later'}}\", \"Error code: 429 - {'error': {'message': 'Model busy, retry later'}}\", False, False, False, False, True, False, \"Error code: 429 - {'error': {'message': 'Model busy, retry later'}}\", \"Error code: 429 - {'error': {'message': 'Model busy, retry later'}}\", False, False, False, False, \"Error code: 429 - {'error': {'message': 'Model busy, retry later'}}\", \"Error code: 429 - {'error': {'message': 'Model busy, retry later'}}\", \"Error code: 429 - {'error': {'message': 'Model busy, retry later'}}\", \"Error code: 429 - {'error': {'message': 'Model busy, retry later'}}\", True, False, \"Error code: 429 - {'error': {'message': 'Model busy, retry later'}}\", \"Error code: 429 - {'error': {'message': 'Model busy, retry later'}}\", \"Error code: 429 - {'error': {'message': 'Model busy, retry later'}}\", False, \"Error code: 429 - {'error': {'message': 'Model busy, retry later'}}\", \"Error code: 429 - {'error': {'message': 'Model busy, retry later'}}\", False, False, \"Error code: 429 - {'error': {'message': 'Model busy, retry later'}}\", \"Error code: 429 - {'error': {'message': 'Model busy, retry later'}}\", \"Error code: 429 - {'error': {'message': 'Model busy, retry later'}}\", \"Error code: 429 - {'error': {'message': 'Model busy, retry later'}}\", \"Error code: 429 - {'error': {'message': 'Model busy, retry later'}}\", \"Error code: 429 - {'error': {'message': 'Model busy, retry later'}}\", \"Error code: 429 - {'error': {'message': 'Model busy, retry later'}}\", \"Error code: 429 - {'error': {'message': 'Model busy, retry later'}}\", \"Error code: 429 - {'error': {'message': 'Model busy, retry later'}}\", \"Error code: 429 - {'error': {'message': 'Model busy, retry later'}}\", \"Error code: 429 - {'error': {'message': 'Model busy, retry later'}}\", \"Error code: 429 - {'error': {'message': 'Model busy, retry later'}}\", \"Error code: 429 - {'error': {'message': 'Model busy, retry later'}}\", False, \"Error code: 429 - {'error': {'message': 'Model busy, retry later'}}\", \"Error code: 429 - {'error': {'message': 'Model busy, retry later'}}\", \"Error code: 429 - {'error': {'message': 'Model busy, retry later'}}\", \"Error code: 429 - {'error': {'message': 'Model busy, retry later'}}\", \"Error code: 429 - {'error': {'message': 'Model busy, retry later'}}\", \"Error code: 429 - {'error': {'message': 'Model busy, retry later'}}\", \"Error code: 429 - {'error': {'message': 'Model busy, retry later'}}\", \"Error code: 429 - {'error': {'message': 'Model busy, retry later'}}\", \"Error code: 429 - {'error': {'message': 'Model busy, retry later'}}\", \"Error code: 429 - {'error': {'message': 'Model busy, retry later'}}\", False, \"Error code: 429 - {'error': {'message': 'Model busy, retry later'}}\", \"Error code: 429 - {'error': {'message': 'Model busy, retry later'}}\", \"Error code: 429 - {'error': {'message': 'Model busy, retry later'}}\", \"Error code: 429 - {'error': {'message': 'Model busy, retry later'}}\", False, \"Error code: 429 - {'error': {'message': 'Model busy, retry later'}}\", False, \"Error code: 429 - {'error': {'message': 'Model busy, retry later'}}\", \"Error code: 429 - {'error': {'message': 'Model busy, retry later'}}\", False, \"Error code: 429 - {'error': {'message': 'Model busy, retry later'}}\", \"Error code: 429 - {'error': {'message': 'Model busy, retry later'}}\", \"Error code: 429 - {'error': {'message': 'Model busy, retry later'}}\", False, \"Error code: 429 - {'error': {'message': 'Model busy, retry later'}}\", \"Error code: 429 - {'error': {'message': 'Model busy, retry later'}}\", False, \"Error code: 429 - {'error': {'message': 'Model busy, retry later'}}\", False, \"Error code: 429 - {'error': {'message': 'Model busy, retry later'}}\", False, False, False, False, \"Error code: 429 - {'error': {'message': 'Model busy, retry later'}}\", False, False, False, False, \"Error code: 429 - {'error': {'message': 'Model busy, retry later'}}\", \"Error code: 429 - {'error': {'message': 'Model busy, retry later'}}\", False, \"Error code: 429 - {'error': {'message': 'Model busy, retry later'}}\", \"Error code: 429 - {'error': {'message': 'Model busy, retry later'}}\", False, \"Error code: 429 - {'error': {'message': 'Model busy, retry later'}}\", \"Error code: 429 - {'error': {'message': 'Model busy, retry later'}}\", \"Error code: 429 - {'error': {'message': 'Model busy, retry later'}}\", \"Error code: 429 - {'error': {'message': 'Model busy, retry later'}}\"]\n",
      "TIR succeeded !\n",
      "api error occured!\n",
      "api error occured!\n",
      "api error occured!\n",
      "api error occured!\n",
      "api error occured!\n",
      "api error occured!\n",
      "api error occured!\n",
      "api error occured!\n",
      "api error occured!\n",
      "api error occured!\n",
      "api error occured!\n",
      "api error occured!\n",
      "api error occured!\n",
      "api error occured!\n",
      "api error occured!\n",
      "api error occured!\n",
      "api error occured!\n",
      "api error occured!\n",
      "api error occured!\n",
      "api error occured!\n",
      "TIR succeeded !\n",
      "TIR succeeded !\n",
      "TIR succeeded !\n",
      "TIR succeeded !\n"
     ]
    },
    {
     "name": "stderr",
     "output_type": "stream",
     "text": [
      " 42%|████▏     | 32/76 [1:21:30<1:39:53, 136.21s/it]"
     ]
    },
    {
     "name": "stdout",
     "output_type": "stream",
     "text": [
      "[False, False, False, False, False, True, False, False, True, False, False, False, False, False, False, False, False, False, False, False, False, False, False, False, False, False, False, False, False, False, False, False, False, False, False, False, False, False, False, False, False, False, True, False, False, False, False, False, False, False, False, \"Error code: 429 - {'error': {'message': 'Model busy, retry later'}}\", False, False, False, False, False, True, False, False, False, False, False, False, False, False, False, False, False, False, False, \"Error code: 429 - {'error': {'message': 'Model busy, retry later'}}\", False, False, False, \"Error code: 429 - {'error': {'message': 'Model busy, retry later'}}\", False, False, \"Error code: 429 - {'error': {'message': 'Model busy, retry later'}}\", \"Error code: 429 - {'error': {'message': 'Model busy, retry later'}}\", False, False, \"Error code: 429 - {'error': {'message': 'Model busy, retry later'}}\", False, \"Error code: 429 - {'error': {'message': 'Model busy, retry later'}}\", \"Error code: 429 - {'error': {'message': 'Model busy, retry later'}}\", \"Error code: 429 - {'error': {'message': 'Model busy, retry later'}}\", \"Error code: 429 - {'error': {'message': 'Model busy, retry later'}}\", \"Error code: 429 - {'error': {'message': 'Model busy, retry later'}}\", True, \"Error code: 429 - {'error': {'message': 'Model busy, retry later'}}\", \"Error code: 429 - {'error': {'message': 'Model busy, retry later'}}\", \"Error code: 429 - {'error': {'message': 'Model busy, retry later'}}\", \"Error code: 429 - {'error': {'message': 'Model busy, retry later'}}\", False, \"Error code: 429 - {'error': {'message': 'Model busy, retry later'}}\", \"Error code: 429 - {'error': {'message': 'Model busy, retry later'}}\", \"Error code: 429 - {'error': {'message': 'Model busy, retry later'}}\", \"Error code: 429 - {'error': {'message': 'Model busy, retry later'}}\", \"Error code: 429 - {'error': {'message': 'Model busy, retry later'}}\"]\n",
      "TIR succeeded !\n",
      "TIR succeeded !\n",
      "TIR succeeded !\n",
      "TIR succeeded !\n",
      "TIR succeeded !\n"
     ]
    },
    {
     "name": "stderr",
     "output_type": "stream",
     "text": [
      " 43%|████▎     | 33/76 [1:24:01<1:40:45, 140.59s/it]"
     ]
    },
    {
     "name": "stdout",
     "output_type": "stream",
     "text": [
      "[False, False, False, False, False, False, False, False, True, False, False, False, False, False, False, False, False, False, False, False, False, False, False, False, False, False, False, False, True, False, False, False, False, False, False, False, False, False, False, True, False, False, False, False, False, False, False, False, False, False, False, False, False, False, False, False, False, False, False, False, False, False, False, False, False, False, False, False, False, False, False, False, False, False, False, False, False, False, False, False, False, True, False, False, False, False, False, False, False, False, False, True, False, False, False, False, False, False, False, False]\n",
      "TIR succeeded !\n",
      "TIR succeeded !\n",
      "TIR succeeded !\n",
      "TIR succeeded !\n",
      "TIR succeeded !\n",
      "TIR succeeded !\n",
      "TIR succeeded !\n",
      "TIR succeeded !\n",
      "TIR succeeded !\n",
      "TIR succeeded !\n",
      "TIR succeeded !\n",
      "TIR succeeded !\n"
     ]
    },
    {
     "name": "stderr",
     "output_type": "stream",
     "text": [
      " 45%|████▍     | 34/76 [1:26:29<1:39:59, 142.85s/it]"
     ]
    },
    {
     "name": "stdout",
     "output_type": "stream",
     "text": [
      "[False, False, False, False, True, False, False, False, True, False, False, False, False, False, False, False, False, False, True, True, False, False, False, False, False, False, False, False, False, False, False, False, False, True, False, False, False, False, True, False, False, False, False, False, False, False, False, False, False, True, False, True, False, False, False, True, False, False, False, False, False, False, False, False, False, False, False, False, True, False, False, False, False, False, False, False, False, False, False, False, False, False, False, True, False, False, False, False, False, False, True, False, False, False, False, False, False, False, False, False]\n",
      "TIR succeeded !\n",
      "TIR succeeded !\n",
      "TIR succeeded !\n",
      "TIR succeeded !\n",
      "TIR succeeded !\n",
      "TIR succeeded !\n",
      "TIR succeeded !\n"
     ]
    },
    {
     "name": "stderr",
     "output_type": "stream",
     "text": [
      " 46%|████▌     | 35/76 [1:29:01<1:39:23, 145.44s/it]"
     ]
    },
    {
     "name": "stdout",
     "output_type": "stream",
     "text": [
      "[False, True, False, False, False, False, False, False, False, False, False, False, False, False, False, False, False, False, False, False, False, False, True, False, False, False, False, False, False, False, False, False, False, False, False, False, False, False, False, False, False, False, False, True, False, False, False, False, False, False, False, False, False, False, False, False, False, True, False, False, False, True, False, False, True, False, False, False, False, False, False, False, False, False, False, False, False, False, False, False, False, False, False, False, True, False, False, False, False, False, False, False, False, False, False, False, False, False, False, False]\n",
      "TIR succeeded !\n",
      "TIR succeeded !\n",
      "TIR succeeded !\n",
      "TIR succeeded !\n",
      "TIR succeeded !\n",
      "TIR succeeded !\n",
      "TIR succeeded !\n"
     ]
    },
    {
     "name": "stderr",
     "output_type": "stream",
     "text": [
      " 47%|████▋     | 36/76 [1:31:30<1:37:48, 146.71s/it]"
     ]
    },
    {
     "name": "stdout",
     "output_type": "stream",
     "text": [
      "[False, False, False, False, True, False, False, False, False, False, False, False, False, False, True, False, False, False, False, False, False, False, False, False, False, False, False, False, False, False, False, False, False, False, False, False, False, False, False, False, False, False, False, False, False, True, False, False, False, False, False, False, False, False, False, False, False, False, False, False, False, False, False, False, False, False, False, False, False, True, True, False, True, False, False, False, False, False, False, False, False, False, False, False, False, False, False, False, False, False, False, True, False, False, False, False, False, False, False, False]\n",
      "TIR succeeded !\n"
     ]
    },
    {
     "name": "stderr",
     "output_type": "stream",
     "text": [
      "<string>:33: RuntimeWarning: overflow encountered in scalar power\n",
      "<string>:33: RuntimeWarning: invalid value encountered in scalar subtract\n"
     ]
    },
    {
     "name": "stdout",
     "output_type": "stream",
     "text": [
      "TIR succeeded !\n",
      "TIR succeeded !\n",
      "TIR succeeded !\n",
      "TIR succeeded !\n",
      "TIR succeeded !\n",
      "TIR succeeded !\n",
      "TIR succeeded !\n"
     ]
    },
    {
     "name": "stderr",
     "output_type": "stream",
     "text": [
      " 49%|████▊     | 37/76 [1:34:20<1:39:54, 153.69s/it]"
     ]
    },
    {
     "name": "stdout",
     "output_type": "stream",
     "text": [
      "[False, False, False, False, False, True, False, False, False, False, False, False, False, True, False, False, False, False, False, False, False, False, False, False, False, False, False, False, False, False, False, False, False, False, False, False, False, False, False, False, False, False, False, False, False, False, False, False, False, False, False, False, False, False, False, False, True, False, False, True, False, False, True, False, False, False, False, False, False, False, False, False, False, False, False, False, False, False, False, False, False, False, False, True, False, False, False, False, False, False, False, False, False, False, True, False, False, False, False, True]\n",
      "TIR succeeded !\n",
      "TIR succeeded !\n",
      "TIR succeeded !\n",
      "TIR succeeded !\n",
      "TIR succeeded !\n",
      "TIR succeeded !\n",
      "TIR succeeded !\n",
      "TIR succeeded !\n",
      "TIR succeeded !\n",
      "TIR succeeded !\n",
      "TIR succeeded !\n"
     ]
    },
    {
     "name": "stderr",
     "output_type": "stream",
     "text": [
      " 50%|█████     | 38/76 [1:36:57<1:37:52, 154.55s/it]"
     ]
    },
    {
     "name": "stdout",
     "output_type": "stream",
     "text": [
      "[False, True, True, False, False, False, False, True, False, False, False, False, False, False, False, False, False, True, False, False, False, False, False, True, False, False, False, False, False, False, False, False, False, False, False, False, False, False, False, False, True, False, False, False, False, False, False, False, False, False, False, False, False, False, False, False, False, False, False, False, False, False, False, False, False, False, False, False, False, False, False, False, False, False, True, False, False, False, False, False, False, False, False, False, False, False, True, True, False, False, False, False, False, False, False, True, True, False, False, False]\n",
      "TIR succeeded !\n",
      "TIR succeeded !\n",
      "TIR succeeded !\n",
      "TIR succeeded !\n",
      "TIR succeeded !\n",
      "TIR succeeded !\n",
      "TIR succeeded !\n",
      "TIR succeeded !\n",
      "TIR succeeded !\n"
     ]
    },
    {
     "name": "stderr",
     "output_type": "stream",
     "text": [
      " 51%|█████▏    | 39/76 [1:39:32<1:35:27, 154.79s/it]"
     ]
    },
    {
     "name": "stdout",
     "output_type": "stream",
     "text": [
      "[False, False, False, False, True, True, False, False, True, False, False, False, True, True, False, False, False, False, False, False, False, False, False, False, False, False, False, True, False, False, False, False, False, False, False, False, False, False, False, True, False, False, False, False, False, False, False, False, False, False, False, False, False, False, False, False, False, False, False, False, False, False, False, False, False, False, True, False, False, False, False, False, False, False, False, False, False, False, False, False, False, False, False, False, False, False, False, False, False, False, False, False, False, False, False, False, False, False, True, False]\n",
      "TIR succeeded !\n",
      "TIR succeeded !\n",
      "TIR succeeded !\n",
      "TIR succeeded !\n",
      "TIR succeeded !\n",
      "TIR succeeded !\n",
      "TIR succeeded !\n"
     ]
    },
    {
     "name": "stderr",
     "output_type": "stream",
     "text": [
      " 53%|█████▎    | 40/76 [1:42:19<1:35:02, 158.39s/it]"
     ]
    },
    {
     "name": "stdout",
     "output_type": "stream",
     "text": [
      "[False, False, False, False, True, False, False, False, False, False, False, False, False, False, False, False, False, False, False, False, False, False, False, False, False, False, False, False, False, False, False, False, False, False, False, False, False, False, False, False, False, False, False, False, False, False, False, False, False, True, False, False, False, False, False, False, False, False, False, False, False, False, False, False, False, False, False, False, False, False, False, False, False, False, False, True, False, False, False, False, False, False, False, False, False, True, True, False, False, False, False, False, False, True, False, True, False, False, False, False]\n",
      "TIR succeeded !\n",
      "TIR succeeded !\n",
      "TIR succeeded !\n",
      "TIR succeeded !\n",
      "TIR succeeded !\n",
      "TIR succeeded !\n",
      "TIR succeeded !\n",
      "TIR succeeded !\n",
      "TIR succeeded !\n",
      "TIR succeeded !\n",
      "TIR succeeded !\n",
      "TIR succeeded !\n",
      "TIR succeeded !\n",
      "TIR succeeded !\n"
     ]
    },
    {
     "name": "stderr",
     "output_type": "stream",
     "text": [
      " 54%|█████▍    | 41/76 [1:44:54<1:31:47, 157.35s/it]"
     ]
    },
    {
     "name": "stdout",
     "output_type": "stream",
     "text": [
      "[False, False, False, False, False, True, False, False, False, True, False, True, False, False, False, False, False, False, True, False, False, False, False, False, False, False, False, False, False, False, False, False, False, False, False, False, False, False, False, False, False, False, False, False, False, True, True, False, True, False, False, False, True, False, False, False, False, False, False, True, False, False, False, False, False, True, False, False, False, False, False, False, False, False, True, False, False, False, False, False, False, False, True, False, False, False, False, False, False, False, False, False, False, False, False, True, True, False, False, False]\n",
      "TIR succeeded !\n",
      "TIR succeeded !\n",
      "TIR succeeded !\n",
      "TIR succeeded !\n",
      "TIR succeeded !\n",
      "TIR succeeded !\n",
      "TIR succeeded !\n"
     ]
    },
    {
     "name": "stderr",
     "output_type": "stream",
     "text": [
      " 55%|█████▌    | 42/76 [1:47:12<1:25:51, 151.50s/it]"
     ]
    },
    {
     "name": "stdout",
     "output_type": "stream",
     "text": [
      "[False, False, False, True, False, False, False, False, False, False, False, False, False, False, False, False, False, False, False, False, False, True, False, False, False, False, False, False, False, False, False, False, False, False, True, False, False, False, False, False, False, False, False, False, False, False, False, False, False, True, False, False, False, False, False, False, False, False, False, False, False, False, False, True, False, False, False, False, False, False, False, True, True, False, False, False, False, False, False, False, False, False, False, False, False, False, False, False, False, False, False, False, False, False, False, False, False, False, False, False]\n",
      "TIR succeeded !\n",
      "TIR succeeded !\n",
      "TIR succeeded !\n",
      "TIR succeeded !\n"
     ]
    },
    {
     "name": "stderr",
     "output_type": "stream",
     "text": [
      " 57%|█████▋    | 43/76 [1:49:45<1:23:35, 151.97s/it]"
     ]
    },
    {
     "name": "stdout",
     "output_type": "stream",
     "text": [
      "[False, False, False, False, False, False, False, False, False, False, False, False, False, False, False, False, False, False, False, False, False, False, False, False, False, False, False, False, False, False, False, False, False, False, False, False, False, False, False, False, False, False, False, False, False, False, False, False, False, False, False, False, False, False, False, False, False, False, False, False, False, False, False, False, False, False, False, False, False, False, False, False, True, False, False, False, False, False, False, False, False, False, False, False, False, False, True, False, False, False, True, False, False, False, False, False, False, False, True, False]\n",
      "TIR succeeded !\n",
      "TIR succeeded !\n",
      "TIR succeeded !\n",
      "TIR succeeded !\n",
      "TIR succeeded !\n"
     ]
    },
    {
     "name": "stderr",
     "output_type": "stream",
     "text": [
      " 58%|█████▊    | 44/76 [1:52:18<1:21:11, 152.23s/it]"
     ]
    },
    {
     "name": "stdout",
     "output_type": "stream",
     "text": [
      "[False, False, False, False, False, False, False, False, False, False, False, False, False, False, True, False, False, False, False, False, False, False, True, False, False, True, False, False, False, False, False, False, False, False, False, False, False, False, False, False, False, False, False, False, False, False, False, False, False, False, False, False, False, False, False, False, False, False, False, False, False, False, False, False, False, False, False, False, False, False, False, False, False, False, False, False, False, False, False, False, False, False, False, False, False, False, False, False, True, False, True, False, False, False, False, False, False, False, False, False]\n",
      "TIR succeeded !\n",
      "TIR succeeded !\n",
      "TIR succeeded !\n",
      "TIR succeeded !\n",
      "TIR succeeded !\n",
      "TIR succeeded !\n",
      "TIR succeeded !\n",
      "TIR succeeded !\n",
      "TIR succeeded !\n",
      "TIR succeeded !\n",
      "TIR succeeded !\n"
     ]
    },
    {
     "name": "stderr",
     "output_type": "stream",
     "text": [
      " 59%|█████▉    | 45/76 [1:54:52<1:18:55, 152.75s/it]"
     ]
    },
    {
     "name": "stdout",
     "output_type": "stream",
     "text": [
      "[False, False, False, True, False, False, False, False, False, False, False, True, False, False, True, False, False, False, False, False, False, False, False, False, False, False, False, True, False, False, False, False, False, False, False, False, False, False, False, False, False, True, False, False, False, False, False, False, True, False, False, False, False, False, False, False, False, False, True, False, False, False, False, False, True, False, False, False, False, False, False, False, False, False, False, False, False, False, True, True, True, False, False, False, False, False, False, False, False, False, False, False, False, False, False, False, False, False, False, False]\n",
      "TIR succeeded !\n",
      "TIR succeeded !\n",
      "TIR succeeded !\n",
      "TIR succeeded !\n",
      "TIR succeeded !\n",
      "TIR succeeded !\n",
      "TIR succeeded !\n"
     ]
    },
    {
     "name": "stderr",
     "output_type": "stream",
     "text": [
      " 61%|██████    | 46/76 [1:57:20<1:15:42, 151.41s/it]"
     ]
    },
    {
     "name": "stdout",
     "output_type": "stream",
     "text": [
      "[False, True, False, True, False, False, False, False, False, False, False, False, False, False, False, False, False, False, False, False, False, False, False, False, False, False, False, False, False, False, False, False, False, False, False, False, False, True, False, False, False, False, True, False, False, False, False, False, False, False, False, False, False, False, False, True, False, False, False, False, False, False, False, False, False, False, False, False, False, False, False, False, False, False, False, False, False, False, False, False, False, True, False, False, False, False, False, False, False, False, False, False, False, False, True, False, False, False, False, False]\n",
      "TIR succeeded !\n",
      "TIR succeeded !\n",
      "TIR succeeded !\n",
      "TIR succeeded !\n",
      "TIR succeeded !\n",
      "TIR succeeded !\n",
      "TIR succeeded !\n",
      "TIR succeeded !\n"
     ]
    },
    {
     "name": "stderr",
     "output_type": "stream",
     "text": [
      " 62%|██████▏   | 47/76 [1:59:43<1:12:01, 149.03s/it]"
     ]
    },
    {
     "name": "stdout",
     "output_type": "stream",
     "text": [
      "[False, False, True, False, False, False, False, False, False, False, False, False, False, False, False, False, False, False, False, False, False, False, False, True, False, False, False, False, False, False, True, False, False, False, False, False, False, False, False, False, False, False, False, False, False, False, False, False, False, False, True, False, False, False, False, True, False, False, False, False, False, False, False, False, False, False, False, False, False, False, False, False, False, True, False, False, False, False, False, False, False, False, True, False, False, False, False, False, False, False, False, False, False, False, False, True, False, False, False, False]\n",
      "TIR succeeded !\n",
      "TIR succeeded !\n",
      "TIR succeeded !\n",
      "TIR succeeded !\n",
      "TIR succeeded !\n",
      "TIR succeeded !\n"
     ]
    },
    {
     "name": "stderr",
     "output_type": "stream",
     "text": [
      " 63%|██████▎   | 48/76 [2:02:07<1:08:45, 147.33s/it]"
     ]
    },
    {
     "name": "stdout",
     "output_type": "stream",
     "text": [
      "[False, False, False, False, True, False, False, False, False, False, False, False, False, False, False, False, False, False, False, False, False, False, False, False, False, False, True, False, False, False, False, True, False, False, False, False, False, False, False, False, False, False, False, False, False, False, False, False, False, False, False, True, False, False, False, False, False, False, False, False, False, False, False, False, False, False, True, False, False, False, False, False, False, False, False, False, False, False, False, False, False, False, False, False, False, False, False, False, False, False, False, False, False, False, False, False, False, False, False, True]\n",
      "TIR succeeded !\n",
      "TIR succeeded !\n",
      "TIR succeeded !\n",
      "TIR succeeded !\n",
      "TIR succeeded !\n",
      "TIR succeeded !\n"
     ]
    },
    {
     "name": "stderr",
     "output_type": "stream",
     "text": [
      " 64%|██████▍   | 49/76 [2:04:37<1:06:44, 148.33s/it]"
     ]
    },
    {
     "name": "stdout",
     "output_type": "stream",
     "text": [
      "[False, False, False, True, False, False, False, False, False, False, False, False, False, False, False, False, False, False, False, False, False, False, False, False, False, False, False, False, False, True, False, False, False, False, False, False, False, False, False, False, False, True, False, True, False, True, False, False, False, False, False, False, False, False, False, False, False, False, False, False, False, False, False, False, False, False, False, False, False, False, False, False, False, False, False, False, False, False, False, False, False, False, False, False, True, False, False, False, False, False, False, False, False, False, False, False, False, False, False, False]\n",
      "TIR succeeded !\n",
      "TIR succeeded !\n",
      "TIR succeeded !\n",
      "TIR succeeded !\n",
      "TIR succeeded !\n",
      "TIR succeeded !\n"
     ]
    },
    {
     "name": "stderr",
     "output_type": "stream",
     "text": [
      " 66%|██████▌   | 50/76 [2:07:13<1:05:10, 150.41s/it]"
     ]
    },
    {
     "name": "stdout",
     "output_type": "stream",
     "text": [
      "[False, False, False, False, False, False, False, False, False, False, False, False, False, False, False, False, False, False, False, False, False, False, False, True, False, False, False, False, False, False, False, False, False, False, False, False, False, True, False, False, False, False, False, False, False, False, False, False, False, False, False, False, False, False, False, False, False, True, False, False, False, False, False, True, False, False, False, True, False, True, False, False, False, False, False, False, False, False, False, False, False, False, False, False, False, False, False, False, False, False, False, False, False, False, False, False, False, False, False, False]\n",
      "TIR succeeded !api error occured!\n",
      "api error occured!\n",
      "api error occured!\n",
      "api error occured!\n",
      "\n",
      "api error occured!\n",
      "api error occured!\n",
      "api error occured!\n",
      "api error occured!\n",
      "api error occured!\n",
      "api error occured!\n",
      "api error occured!\n",
      "api error occured!\n",
      "api error occured!\n",
      "api error occured!\n",
      "api error occured!\n",
      "api error occured!\n",
      "api error occured!\n",
      "api error occured!\n",
      "TIR succeeded !\n",
      "api error occured!\n",
      "api error occured!\n",
      "api error occured!\n",
      "api error occured!\n",
      "api error occured!\n",
      "api error occured!\n",
      "api error occured!\n",
      "api error occured!\n",
      "api error occured!\n",
      "api error occured!\n",
      "api error occured!\n",
      "api error occured!\n",
      "api error occured!\n",
      "api error occured!\n",
      "api error occured!\n",
      "api error occured!\n",
      "api error occured!\n",
      "api error occured!\n",
      "api error occured!\n",
      "TIR succeeded !\n",
      "TIR succeeded !\n",
      "TIR succeeded !\n"
     ]
    },
    {
     "name": "stderr",
     "output_type": "stream",
     "text": [
      " 67%|██████▋   | 51/76 [2:09:23<1:00:07, 144.31s/it]"
     ]
    },
    {
     "name": "stdout",
     "output_type": "stream",
     "text": [
      "[False, False, False, False, False, False, False, False, False, False, True, False, False, \"Error code: 429 - {'error': {'message': 'Model busy, retry later'}}\", False, False, False, False, \"Error code: 429 - {'error': {'message': 'Model busy, retry later'}}\", False, False, \"Error code: 429 - {'error': {'message': 'Model busy, retry later'}}\", False, False, False, \"Error code: 429 - {'error': {'message': 'Model busy, retry later'}}\", False, \"Error code: 429 - {'error': {'message': 'Model busy, retry later'}}\", False, False, False, False, False, False, \"Error code: 429 - {'error': {'message': 'Model busy, retry later'}}\", False, False, False, False, False, \"Error code: 429 - {'error': {'message': 'Model busy, retry later'}}\", \"Error code: 429 - {'error': {'message': 'Model busy, retry later'}}\", False, False, False, True, False, False, False, False, \"Error code: 429 - {'error': {'message': 'Model busy, retry later'}}\", False, \"Error code: 429 - {'error': {'message': 'Model busy, retry later'}}\", False, \"Error code: 429 - {'error': {'message': 'Model busy, retry later'}}\", False, False, \"Error code: 429 - {'error': {'message': 'Model busy, retry later'}}\", False, True, True, False, False, False, False, False, False, \"Error code: 429 - {'error': {'message': 'Model busy, retry later'}}\", \"Error code: 429 - {'error': {'message': 'Model busy, retry later'}}\", \"Error code: 429 - {'error': {'message': 'Model busy, retry later'}}\", False, False, \"Error code: 429 - {'error': {'message': 'Model busy, retry later'}}\", \"Error code: 429 - {'error': {'message': 'Model busy, retry later'}}\", False, False, \"Error code: 429 - {'error': {'message': 'Model busy, retry later'}}\", \"Error code: 429 - {'error': {'message': 'Model busy, retry later'}}\", \"Error code: 429 - {'error': {'message': 'Model busy, retry later'}}\", \"Error code: 429 - {'error': {'message': 'Model busy, retry later'}}\", \"Error code: 429 - {'error': {'message': 'Model busy, retry later'}}\", \"Error code: 429 - {'error': {'message': 'Model busy, retry later'}}\", \"Error code: 429 - {'error': {'message': 'Model busy, retry later'}}\", \"Error code: 429 - {'error': {'message': 'Model busy, retry later'}}\", \"Error code: 429 - {'error': {'message': 'Model busy, retry later'}}\", False, \"Error code: 429 - {'error': {'message': 'Model busy, retry later'}}\", \"Error code: 429 - {'error': {'message': 'Model busy, retry later'}}\", False, \"Error code: 429 - {'error': {'message': 'Model busy, retry later'}}\", \"Error code: 429 - {'error': {'message': 'Model busy, retry later'}}\", \"Error code: 429 - {'error': {'message': 'Model busy, retry later'}}\", \"Error code: 429 - {'error': {'message': 'Model busy, retry later'}}\", \"Error code: 429 - {'error': {'message': 'Model busy, retry later'}}\", \"Error code: 429 - {'error': {'message': 'Model busy, retry later'}}\", \"Error code: 429 - {'error': {'message': 'Model busy, retry later'}}\", True, \"Error code: 429 - {'error': {'message': 'Model busy, retry later'}}\", \"Error code: 429 - {'error': {'message': 'Model busy, retry later'}}\", False]\n",
      "TIR succeeded !\n",
      "TIR succeeded !\n",
      "TIR succeeded !\n",
      "TIR succeeded !\n",
      "TIR succeeded !\n",
      "TIR succeeded !\n",
      "TIR succeeded !\n",
      "TIR succeeded !\n",
      "TIR succeeded !\n",
      "TIR succeeded !\n",
      "TIR succeeded !\n"
     ]
    },
    {
     "name": "stderr",
     "output_type": "stream",
     "text": [
      " 68%|██████▊   | 52/76 [2:12:11<1:00:34, 151.46s/it]"
     ]
    },
    {
     "name": "stdout",
     "output_type": "stream",
     "text": [
      "[False, False, False, False, False, False, False, False, False, False, False, False, False, False, False, False, False, False, False, False, False, False, False, False, False, False, False, True, False, True, False, False, False, False, False, False, False, False, False, False, False, False, False, True, False, False, False, False, False, True, False, True, False, False, False, False, False, False, False, False, True, False, False, False, False, True, False, False, False, False, False, True, False, False, False, False, False, False, False, False, True, False, False, False, False, False, False, False, False, False, False, True, False, False, False, True, False, False, False, False]\n",
      "TIR succeeded !\n",
      "TIR succeeded !\n",
      "TIR succeeded !\n",
      "TIR succeeded !\n",
      "TIR succeeded !\n",
      "TIR succeeded !\n",
      "TIR succeeded !\n",
      "TIR succeeded !\n"
     ]
    },
    {
     "name": "stderr",
     "output_type": "stream",
     "text": [
      " 70%|██████▉   | 53/76 [2:14:39<57:38, 150.38s/it]  "
     ]
    },
    {
     "name": "stdout",
     "output_type": "stream",
     "text": [
      "[False, False, False, False, True, False, False, True, False, False, False, False, False, False, True, False, False, False, False, False, False, False, False, False, False, False, False, False, False, False, False, False, False, False, False, True, False, False, False, False, False, False, False, False, False, False, False, False, False, False, False, False, False, False, True, False, False, False, False, False, False, False, False, False, False, False, False, False, False, False, False, False, False, False, False, False, False, False, False, False, False, False, False, True, False, True, False, False, False, False, False, False, False, False, False, False, False, False, False, True]\n",
      "TIR succeeded !\n",
      "TIR succeeded !\n",
      "TIR succeeded !\n",
      "TIR succeeded !\n",
      "TIR succeeded !\n",
      "TIR succeeded !\n",
      "TIR succeeded !\n",
      "TIR succeeded !\n",
      "TIR succeeded !\n"
     ]
    },
    {
     "name": "stderr",
     "output_type": "stream",
     "text": [
      " 71%|███████   | 54/76 [2:17:19<56:15, 153.43s/it]"
     ]
    },
    {
     "name": "stdout",
     "output_type": "stream",
     "text": [
      "[False, False, False, False, False, False, False, False, False, False, False, False, False, False, False, False, False, False, False, False, False, False, False, False, False, False, False, False, False, False, False, False, True, False, False, False, False, True, False, False, False, False, False, False, False, True, False, True, False, False, False, False, False, False, False, True, False, False, False, False, True, False, False, False, False, False, False, False, False, True, False, False, False, False, False, False, False, False, False, False, False, False, False, False, False, False, False, False, False, True, False, True, False, False, False, False, False, False, False, False]\n",
      "TIR succeeded !\n",
      "TIR succeeded !\n",
      "TIR succeeded !\n",
      "TIR succeeded !\n",
      "TIR succeeded !\n",
      "TIR succeeded !\n",
      "TIR succeeded !\n",
      "TIR succeeded !\n",
      "TIR succeeded !\n",
      "TIR succeeded !\n"
     ]
    },
    {
     "name": "stderr",
     "output_type": "stream",
     "text": [
      " 72%|███████▏  | 55/76 [2:19:47<53:08, 151.82s/it]"
     ]
    },
    {
     "name": "stdout",
     "output_type": "stream",
     "text": [
      "[False, False, False, False, False, False, False, False, False, False, True, False, False, True, False, False, False, False, False, True, False, False, False, False, False, False, False, False, False, False, False, False, True, False, False, True, False, False, False, False, False, False, False, True, False, False, True, False, False, False, False, False, False, False, False, False, False, False, False, False, False, False, False, False, False, False, False, False, True, False, False, False, False, False, False, False, False, False, True, False, False, False, False, False, False, False, True, False, False, False, False, False, False, False, False, False, False, False, False, False]\n",
      "TIR succeeded !\n",
      "TIR succeeded !\n",
      "TIR succeeded !\n",
      "TIR succeeded !\n",
      "TIR succeeded !\n",
      "TIR succeeded !\n",
      "TIR succeeded !\n",
      "TIR succeeded !\n",
      "TIR succeeded !\n",
      "TIR succeeded !\n"
     ]
    },
    {
     "name": "stderr",
     "output_type": "stream",
     "text": [
      " 74%|███████▎  | 56/76 [2:21:59<48:34, 145.71s/it]"
     ]
    },
    {
     "name": "stdout",
     "output_type": "stream",
     "text": [
      "[True, False, False, False, False, False, False, False, False, False, False, False, False, False, False, False, True, False, False, True, False, False, False, False, False, False, False, False, False, False, False, False, False, False, False, True, False, False, False, False, False, False, False, False, True, False, False, False, True, False, False, False, False, False, False, False, False, False, False, False, True, False, False, False, False, False, False, False, False, False, False, False, False, False, False, False, True, True, False, False, False, False, False, False, True, False, False, False, False, False, False, False, False, False, False, False, False, False, False, False]\n",
      "TIR succeeded !\n",
      "TIR succeeded !\n",
      "TIR succeeded !\n",
      "TIR succeeded !\n",
      "TIR succeeded !\n",
      "TIR succeeded !\n",
      "TIR succeeded !\n",
      "TIR succeeded !\n",
      "TIR succeeded !\n",
      "TIR succeeded !\n",
      "TIR succeeded !\n",
      "TIR succeeded !\n"
     ]
    },
    {
     "name": "stderr",
     "output_type": "stream",
     "text": [
      " 75%|███████▌  | 57/76 [2:24:20<45:40, 144.23s/it]"
     ]
    },
    {
     "name": "stdout",
     "output_type": "stream",
     "text": [
      "[False, False, False, False, False, False, False, False, False, False, False, True, False, False, False, True, False, False, True, False, False, False, False, False, False, False, True, True, False, False, False, False, False, False, False, False, False, False, True, False, False, False, False, False, False, False, False, False, False, False, False, False, False, False, False, False, False, False, False, True, False, False, False, False, False, False, False, False, False, False, False, False, True, False, False, False, False, True, False, False, False, False, False, False, True, True, False, False, False, True, False, False, False, False, False, False, False, False, False, False]\n",
      "api error occured!\n",
      "api error occured!\n",
      "api error occured!\n",
      "api error occured!\n",
      "api error occured!\n",
      "api error occured!\n",
      "api error occured!\n",
      "api error occured!\n",
      "api error occured!\n",
      "api error occured!\n",
      "api error occured!\n",
      "api error occured!\n",
      "api error occured!\n",
      "api error occured!\n",
      "api error occured!\n",
      "api error occured!\n",
      "api error occured!\n",
      "api error occured!\n",
      "api error occured!\n",
      "api error occured!\n",
      "api error occured!\n",
      "api error occured!\n",
      "api error occured!\n",
      "api error occured!\n",
      "api error occured!\n",
      "api error occured!\n",
      "api error occured!\n",
      "api error occured!\n",
      "api error occured!\n",
      "api error occured!\n",
      "api error occured!\n",
      "api error occured!\n",
      "api error occured!\n",
      "api error occured!\n",
      "api error occured!\n",
      "TIR succeeded !\n",
      "api error occured!\n",
      "api error occured!\n",
      "api error occured!\n",
      "api error occured!\n",
      "api error occured!\n",
      "api error occured!\n",
      "api error occured!\n",
      "api error occured!\n",
      "api error occured!\n",
      "api error occured!\n",
      "api error occured!\n",
      "api error occured!\n",
      "TIR succeeded !\n",
      "api error occured!\n",
      "api error occured!\n",
      "api error occured!\n",
      "api error occured!\n",
      "api error occured!\n",
      "api error occured!\n",
      "api error occured!\n",
      "api error occured!\n",
      "api error occured!\n",
      "api error occured!\n",
      "api error occured!\n",
      "api error occured!\n",
      "api error occured!\n",
      "api error occured!\n",
      "api error occured!\n",
      "api error occured!\n",
      "api error occured!\n",
      "api error occured!\n",
      "api error occured!\n",
      "api error occured!\n",
      "api error occured!\n",
      "api error occured!\n",
      "api error occured!\n",
      "api error occured!\n",
      "TIR succeeded !\n"
     ]
    },
    {
     "name": "stderr",
     "output_type": "stream",
     "text": [
      " 76%|███████▋  | 58/76 [2:25:33<36:53, 122.94s/it]"
     ]
    },
    {
     "name": "stdout",
     "output_type": "stream",
     "text": [
      "[\"Error code: 429 - {'error': {'message': 'Model busy, retry later'}}\", \"Error code: 429 - {'error': {'message': 'Model busy, retry later'}}\", \"Error code: 429 - {'error': {'message': 'Model busy, retry later'}}\", False, False, \"Error code: 429 - {'error': {'message': 'Model busy, retry later'}}\", \"Error code: 429 - {'error': {'message': 'Model busy, retry later'}}\", \"Error code: 429 - {'error': {'message': 'Model busy, retry later'}}\", False, True, False, \"Error code: 429 - {'error': {'message': 'Model busy, retry later'}}\", \"Error code: 429 - {'error': {'message': 'Model busy, retry later'}}\", \"Error code: 429 - {'error': {'message': 'Model busy, retry later'}}\", \"Error code: 429 - {'error': {'message': 'Model busy, retry later'}}\", False, \"Error code: 429 - {'error': {'message': 'Model busy, retry later'}}\", \"Error code: 429 - {'error': {'message': 'Model busy, retry later'}}\", False, False, False, \"Error code: 429 - {'error': {'message': 'Model busy, retry later'}}\", \"Error code: 429 - {'error': {'message': 'Model busy, retry later'}}\", \"Error code: 429 - {'error': {'message': 'Model busy, retry later'}}\", \"Error code: 429 - {'error': {'message': 'Model busy, retry later'}}\", \"Error code: 429 - {'error': {'message': 'Model busy, retry later'}}\", False, \"Error code: 429 - {'error': {'message': 'Model busy, retry later'}}\", False, False, \"Error code: 429 - {'error': {'message': 'Model busy, retry later'}}\", False, True, False, \"Error code: 429 - {'error': {'message': 'Model busy, retry later'}}\", \"Error code: 429 - {'error': {'message': 'Model busy, retry later'}}\", \"Error code: 429 - {'error': {'message': 'Model busy, retry later'}}\", \"Error code: 429 - {'error': {'message': 'Model busy, retry later'}}\", \"Error code: 429 - {'error': {'message': 'Model busy, retry later'}}\", \"Error code: 429 - {'error': {'message': 'Model busy, retry later'}}\", \"Error code: 429 - {'error': {'message': 'Model busy, retry later'}}\", \"Error code: 429 - {'error': {'message': 'Model busy, retry later'}}\", \"Error code: 429 - {'error': {'message': 'Model busy, retry later'}}\", \"Error code: 429 - {'error': {'message': 'Model busy, retry later'}}\", \"Error code: 429 - {'error': {'message': 'Model busy, retry later'}}\", \"Error code: 429 - {'error': {'message': 'Model busy, retry later'}}\", False, False, \"Error code: 429 - {'error': {'message': 'Model busy, retry later'}}\", \"Error code: 429 - {'error': {'message': 'Model busy, retry later'}}\", \"Error code: 429 - {'error': {'message': 'Model busy, retry later'}}\", \"Error code: 429 - {'error': {'message': 'Model busy, retry later'}}\", \"Error code: 429 - {'error': {'message': 'Model busy, retry later'}}\", True, \"Error code: 429 - {'error': {'message': 'Model busy, retry later'}}\", \"Error code: 429 - {'error': {'message': 'Model busy, retry later'}}\", \"Error code: 429 - {'error': {'message': 'Model busy, retry later'}}\", \"Error code: 429 - {'error': {'message': 'Model busy, retry later'}}\", \"Error code: 429 - {'error': {'message': 'Model busy, retry later'}}\", \"Error code: 429 - {'error': {'message': 'Model busy, retry later'}}\", \"Error code: 429 - {'error': {'message': 'Model busy, retry later'}}\", \"Error code: 429 - {'error': {'message': 'Model busy, retry later'}}\", False, False, \"Error code: 429 - {'error': {'message': 'Model busy, retry later'}}\", \"Error code: 429 - {'error': {'message': 'Model busy, retry later'}}\", \"Error code: 429 - {'error': {'message': 'Model busy, retry later'}}\", \"Error code: 429 - {'error': {'message': 'Model busy, retry later'}}\", False, \"Error code: 429 - {'error': {'message': 'Model busy, retry later'}}\", False, \"Error code: 429 - {'error': {'message': 'Model busy, retry later'}}\", \"Error code: 429 - {'error': {'message': 'Model busy, retry later'}}\", \"Error code: 429 - {'error': {'message': 'Model busy, retry later'}}\", \"Error code: 429 - {'error': {'message': 'Model busy, retry later'}}\", \"Error code: 429 - {'error': {'message': 'Model busy, retry later'}}\", \"Error code: 429 - {'error': {'message': 'Model busy, retry later'}}\", False, False, \"Error code: 429 - {'error': {'message': 'Model busy, retry later'}}\", \"Error code: 429 - {'error': {'message': 'Model busy, retry later'}}\", \"Error code: 429 - {'error': {'message': 'Model busy, retry later'}}\", False, False, \"Error code: 429 - {'error': {'message': 'Model busy, retry later'}}\", \"Error code: 429 - {'error': {'message': 'Model busy, retry later'}}\", False, \"Error code: 429 - {'error': {'message': 'Model busy, retry later'}}\", \"Error code: 429 - {'error': {'message': 'Model busy, retry later'}}\", \"Error code: 429 - {'error': {'message': 'Model busy, retry later'}}\", \"Error code: 429 - {'error': {'message': 'Model busy, retry later'}}\", \"Error code: 429 - {'error': {'message': 'Model busy, retry later'}}\", \"Error code: 429 - {'error': {'message': 'Model busy, retry later'}}\", False, \"Error code: 429 - {'error': {'message': 'Model busy, retry later'}}\", \"Error code: 429 - {'error': {'message': 'Model busy, retry later'}}\", \"Error code: 429 - {'error': {'message': 'Model busy, retry later'}}\", \"Error code: 429 - {'error': {'message': 'Model busy, retry later'}}\", \"Error code: 429 - {'error': {'message': 'Model busy, retry later'}}\", False]\n",
      "TIR succeeded !\n",
      "TIR succeeded !\n",
      "TIR succeeded !\n"
     ]
    },
    {
     "name": "stderr",
     "output_type": "stream",
     "text": [
      " 78%|███████▊  | 59/76 [2:28:19<38:31, 135.97s/it]"
     ]
    },
    {
     "name": "stdout",
     "output_type": "stream",
     "text": [
      "[False, False, False, False, False, False, False, False, False, False, False, False, False, False, False, False, False, False, False, False, False, False, False, False, False, False, False, False, False, False, False, False, False, False, False, False, False, False, False, False, False, False, False, False, False, False, False, False, False, False, False, False, False, False, True, False, True, False, False, False, False, False, False, False, False, False, False, False, False, False, False, False, False, False, False, False, False, False, False, False, False, False, False, False, False, False, False, False, False, False, False, False, False, False, False, False, True, False, False, False]\n",
      "TIR succeeded !\n",
      "TIR succeeded !\n",
      "api error occured!\n",
      "api error occured!\n",
      "TIR succeeded !\n",
      "api error occured!\n",
      "api error occured!\n",
      "api error occured!\n",
      "api error occured!\n",
      "api error occured!\n",
      "api error occured!\n",
      "api error occured!\n",
      "api error occured!\n",
      "api error occured!\n",
      "TIR succeeded !\n",
      "TIR succeeded !\n",
      "TIR succeeded !\n"
     ]
    },
    {
     "name": "stderr",
     "output_type": "stream",
     "text": [
      " 79%|███████▉  | 60/76 [2:30:54<37:44, 141.54s/it]"
     ]
    },
    {
     "name": "stdout",
     "output_type": "stream",
     "text": [
      "[False, False, False, False, False, False, False, True, False, False, False, False, False, False, False, False, False, False, False, False, False, False, False, True, False, False, False, False, False, False, False, False, False, False, False, False, True, False, False, False, False, False, False, False, False, False, False, False, False, False, False, False, False, False, False, False, False, False, False, False, False, False, False, False, False, False, False, False, False, True, False, False, \"Error code: 429 - {'error': {'message': 'Model busy, retry later'}}\", True, False, False, False, \"Error code: 429 - {'error': {'message': 'Model busy, retry later'}}\", False, False, False, False, \"Error code: 429 - {'error': {'message': 'Model busy, retry later'}}\", False, \"Error code: 429 - {'error': {'message': 'Model busy, retry later'}}\", \"Error code: 429 - {'error': {'message': 'Model busy, retry later'}}\", False, False, False, False, False, \"Error code: 429 - {'error': {'message': 'Model busy, retry later'}}\", False, \"Error code: 429 - {'error': {'message': 'Model busy, retry later'}}\", \"Error code: 429 - {'error': {'message': 'Model busy, retry later'}}\", True, \"Error code: 429 - {'error': {'message': 'Model busy, retry later'}}\", \"Error code: 429 - {'error': {'message': 'Model busy, retry later'}}\", \"Error code: 429 - {'error': {'message': 'Model busy, retry later'}}\", False]\n",
      "TIR succeeded !\n",
      "TIR succeeded !\n",
      "TIR succeeded !\n",
      "TIR succeeded !\n",
      "TIR succeeded !\n",
      "TIR succeeded !\n",
      "TIR succeeded !\n",
      "TIR succeeded !\n",
      "TIR succeeded !\n",
      "TIR succeeded !\n",
      "TIR succeeded !\n",
      "TIR succeeded !\n",
      "TIR succeeded !\n",
      "TIR succeeded !\n",
      "TIR succeeded !\n"
     ]
    },
    {
     "name": "stderr",
     "output_type": "stream",
     "text": [
      " 80%|████████  | 61/76 [2:33:21<35:47, 143.18s/it]"
     ]
    },
    {
     "name": "stdout",
     "output_type": "stream",
     "text": [
      "[False, False, False, False, True, False, False, False, True, False, False, False, False, False, True, False, False, False, False, False, True, True, False, False, False, False, False, False, False, False, False, False, False, False, False, False, False, False, True, False, False, False, False, False, False, False, False, False, True, False, False, False, False, True, False, False, False, False, False, True, False, False, False, True, True, False, False, False, True, False, False, False, False, False, False, False, False, False, True, True, False, False, False, False, False, False, False, False, False, False, False, False, False, False, False, False, False, False, False, True]\n",
      "TIR succeeded !\n",
      "TIR succeeded !\n",
      "TIR succeeded !\n",
      "TIR succeeded !\n",
      "TIR succeeded !\n",
      "TIR succeeded !\n"
     ]
    }
   ],
   "source": [
    "%%time\n",
    "for i in tqdm(range(math.ceil(len(data_list)/100))):\n",
    "    start = 100*i\n",
    "    end = 100*(i+1) \n",
    "    return_val = parallelize(get_tir, all_q[start:end] , all_r[start:end], all_a[start:end])\n",
    "    time.sleep(10)\n",
    "    print(return_val)"
   ]
  },
  {
   "cell_type": "code",
   "execution_count": 6,
   "id": "c99a188e",
   "metadata": {},
   "outputs": [],
   "source": [
    "# print(return_val)"
   ]
  },
  {
   "cell_type": "code",
   "execution_count": null,
   "id": "e2c0e1d3",
   "metadata": {},
   "outputs": [],
   "source": [
    "def save_unique(dict_list, name = \"xx.json\"):\n",
    "    json_unique = []\n",
    "    st = set()\n",
    "    for item in dict_list:\n",
    "        if item[\"q\"] in st:\n",
    "            pass\n",
    "        else:\n",
    "            st.add(item[\"q\"])\n",
    "            json_unique.append(item)\n",
    "    print(f\"final length: {len(json_unique)}\")\n",
    "    with open(name, \"w\") as f:\n",
    "        json.dump(json_unique, f , indent = 4)\n",
    "        \n",
    "save_unique(TIR_FULL_RESPONSES, target_TIR_json)\n",
    "save_unique(AFTER_ROUND_RESPONSES, not_worked_json)"
   ]
  }
 ],
 "metadata": {
  "kernelspec": {
   "display_name": "Python 3 (ipykernel)",
   "language": "python",
   "name": "python3"
  },
  "language_info": {
   "codemirror_mode": {
    "name": "ipython",
    "version": 3
   },
   "file_extension": ".py",
   "mimetype": "text/x-python",
   "name": "python",
   "nbconvert_exporter": "python",
   "pygments_lexer": "ipython3",
   "version": "3.11.8"
  }
 },
 "nbformat": 4,
 "nbformat_minor": 5
}
